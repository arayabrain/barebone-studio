{
 "cells": [
  {
   "attachments": {},
   "cell_type": "markdown",
   "id": "a31d0d3c",
   "metadata": {},
   "source": [
    "`conda env create -n caiman_env -f optinist/conda/caiman_env.yaml`"
   ]
  },
  {
   "cell_type": "code",
   "execution_count": null,
   "id": "ea3511d4",
   "metadata": {},
   "outputs": [],
   "source": [
    "\"\"\"\n",
    "Setup:\n",
    "1. Create environment:\n",
    "    In terminal, run:\n",
    "   conda env create -n caiman_test_env -f studio/app/optinist/wrappers/caiman/conda/caiman.yaml\n",
    "2. Activate environment:\n",
    "   conda activate caiman_env\n",
    "   pip install pynwb imageio ipython jupyter notebook \"pydantic<2.0.0\" python-dotenv uvicorn xmltodict fastapi \"python-jose[cryptography]\" passlib python-multipart bcrypt \n",
    "  - If running in VS code, you may need to restart and/or select the correct environment with \"Python: Select Interpreter\"\n",
    "3. Run this notebook\n",
    "\"\"\""
   ]
  },
  {
   "cell_type": "code",
   "execution_count": 1,
   "id": "df7ebe92",
   "metadata": {},
   "outputs": [],
   "source": [
    "import os\n",
    "import sys\n",
    "sys.path.append(os.path.abspath('..'))\n",
    "sys.path.append(os.path.abspath('.'))"
   ]
  },
  {
   "cell_type": "code",
   "execution_count": 2,
   "id": "003685fb",
   "metadata": {},
   "outputs": [
    {
     "name": "stdout",
     "output_type": "stream",
     "text": [
      "Intel MKL WARNING: Support of Intel(R) Streaming SIMD Extensions 4.2 (Intel(R) SSE4.2) enabled only processors has been deprecated. Intel oneAPI Math Kernel Library 2025.0 will require Intel(R) Advanced Vector Extensions (Intel(R) AVX) instructions.\n",
      "Intel MKL WARNING: Support of Intel(R) Streaming SIMD Extensions 4.2 (Intel(R) SSE4.2) enabled only processors has been deprecated. Intel oneAPI Math Kernel Library 2025.0 will require Intel(R) Advanced Vector Extensions (Intel(R) AVX) instructions.\n"
     ]
    }
   ],
   "source": [
    "from studio.app.optinist.wrappers.caiman import motion_correction, cnmf\n",
    "from studio.app.common.dataclass import ImageData"
   ]
  },
  {
   "cell_type": "code",
   "execution_count": 3,
   "id": "02a1948b",
   "metadata": {},
   "outputs": [],
   "source": [
    "sample_data = ImageData([\"../sample_data/input/sample_mouse2p_image.tiff\"])"
   ]
  },
  {
   "cell_type": "code",
   "execution_count": 4,
   "id": "c4b86eb6",
   "metadata": {},
   "outputs": [],
   "source": [
    "motion_correction_params = {\n",
    "    'border_nan': 'copy', \n",
    "    'gSig_filt': None, \n",
    "    'is3D': False, \n",
    "    'max_deviation_rigid': 3, \n",
    "    'max_shifts': [6, 6], \n",
    "    'min_mov': None, \n",
    "    'niter_rig': 1, \n",
    "    'nonneg_movie': True, \n",
    "    'num_frames_split': 80, \n",
    "    'num_splits_to_process_els': None, \n",
    "    'num_splits_to_process_rig': None, \n",
    "    'overlaps': [32, 32], \n",
    "    'pw_rigid': False, \n",
    "    'shifts_opencv': True, \n",
    "    'splits_els': 14, \n",
    "    'splits_rig': 14, \n",
    "    'strides': [96, 96], \n",
    "    'upsample_factor_grid': 4, \n",
    "    'use_cuda': False\n",
    "}"
   ]
  },
  {
   "cell_type": "code",
   "execution_count": 5,
   "id": "4000581b",
   "metadata": {},
   "outputs": [
    {
     "name": "stderr",
     "output_type": "stream",
     "text": [
      "2025-01-24 18:57:43.987817: I tensorflow/core/platform/cpu_feature_guard.cc:193] This TensorFlow binary is optimized with oneAPI Deep Neural Network Library (oneDNN) to use the following CPU instructions in performance-critical operations:  SSE4.1 SSE4.2\n",
      "To enable them in other operations, rebuild TensorFlow with the appropriate compiler flags.\n"
     ]
    },
    {
     "ename": "TypeError",
     "evalue": "expected string or bytes-like object",
     "output_type": "error",
     "traceback": [
      "\u001b[0;31m---------------------------------------------------------------------------\u001b[0m",
      "\u001b[0;31mTypeError\u001b[0m                                 Traceback (most recent call last)",
      "Cell \u001b[0;32mIn[5], line 1\u001b[0m\n\u001b[0;32m----> 1\u001b[0m ret \u001b[38;5;241m=\u001b[39m \u001b[43mmotion_correction\u001b[49m\u001b[38;5;241;43m.\u001b[39;49m\u001b[43mcaiman_mc\u001b[49m\u001b[43m(\u001b[49m\u001b[43msample_data\u001b[49m\u001b[43m,\u001b[49m\u001b[43m \u001b[49m\u001b[43mmotion_correction_params\u001b[49m\u001b[43m)\u001b[49m\n",
      "File \u001b[0;32m~/GitRepos/barebone-studio/studio/app/optinist/wrappers/caiman/motion_correction.py:26\u001b[0m, in \u001b[0;36mcaiman_mc\u001b[0;34m(image, output_dir, params, **kwargs)\u001b[0m\n\u001b[1;32m     23\u001b[0m \u001b[38;5;28;01mfrom\u001b[39;00m \u001b[38;5;21;01mcaiman\u001b[39;00m\u001b[38;5;21;01m.\u001b[39;00m\u001b[38;5;21;01mmotion_correction\u001b[39;00m \u001b[38;5;28;01mimport\u001b[39;00m MotionCorrect\n\u001b[1;32m     24\u001b[0m \u001b[38;5;28;01mfrom\u001b[39;00m \u001b[38;5;21;01mcaiman\u001b[39;00m\u001b[38;5;21;01m.\u001b[39;00m\u001b[38;5;21;01msource_extraction\u001b[39;00m\u001b[38;5;21;01m.\u001b[39;00m\u001b[38;5;21;01mcnmf\u001b[39;00m\u001b[38;5;21;01m.\u001b[39;00m\u001b[38;5;21;01mparams\u001b[39;00m \u001b[38;5;28;01mimport\u001b[39;00m CNMFParams\n\u001b[0;32m---> 26\u001b[0m function_id \u001b[38;5;241m=\u001b[39m \u001b[43mExptOutputPathIds\u001b[49m\u001b[43m(\u001b[49m\u001b[43moutput_dir\u001b[49m\u001b[43m)\u001b[49m\u001b[38;5;241m.\u001b[39mfunction_id\n\u001b[1;32m     27\u001b[0m logger\u001b[38;5;241m.\u001b[39minfo(\u001b[38;5;124mf\u001b[39m\u001b[38;5;124m\"\u001b[39m\u001b[38;5;124mstart caiman motion_correction: \u001b[39m\u001b[38;5;132;01m{\u001b[39;00mfunction_id\u001b[38;5;132;01m}\u001b[39;00m\u001b[38;5;124m\"\u001b[39m)\n\u001b[1;32m     29\u001b[0m opts \u001b[38;5;241m=\u001b[39m CNMFParams()\n",
      "File \u001b[0;32m<string>:7\u001b[0m, in \u001b[0;36m__init__\u001b[0;34m(self, output_dir, workspace_id, unique_id, function_id)\u001b[0m\n",
      "File \u001b[0;32m~/GitRepos/barebone-studio/studio/app/common/core/experiment/experiment.py:51\u001b[0m, in \u001b[0;36mExptOutputPathIds.__post_init__\u001b[0;34m(self)\u001b[0m\n\u001b[1;32m     45\u001b[0m \u001b[38;5;250m\u001b[39m\u001b[38;5;124;03m\"\"\"\u001b[39;00m\n\u001b[1;32m     46\u001b[0m \u001b[38;5;124;03mExtract each ID from output_path\u001b[39;00m\n\u001b[1;32m     47\u001b[0m \u001b[38;5;124;03m- output_dir format\u001b[39;00m\n\u001b[1;32m     48\u001b[0m \u001b[38;5;124;03m  - {DIRPATH.OUTPUT_DIR}/{workspace_id}/{unique_id}/{function_id}\u001b[39;00m\n\u001b[1;32m     49\u001b[0m \u001b[38;5;124;03m\"\"\"\u001b[39;00m\n\u001b[1;32m     50\u001b[0m \u001b[38;5;28;01mif\u001b[39;00m \u001b[38;5;28mself\u001b[39m\u001b[38;5;241m.\u001b[39moutput_dir:\n\u001b[0;32m---> 51\u001b[0m     output_relative_dir \u001b[38;5;241m=\u001b[39m \u001b[43mre\u001b[49m\u001b[38;5;241;43m.\u001b[39;49m\u001b[43msub\u001b[49m\u001b[43m(\u001b[49m\u001b[38;5;124;43mf\u001b[39;49m\u001b[38;5;124;43m\"\u001b[39;49m\u001b[38;5;124;43m^\u001b[39;49m\u001b[38;5;132;43;01m{\u001b[39;49;00m\u001b[43mDIRPATH\u001b[49m\u001b[38;5;241;43m.\u001b[39;49m\u001b[43mOUTPUT_DIR\u001b[49m\u001b[38;5;132;43;01m}\u001b[39;49;00m\u001b[38;5;124;43m/\u001b[39;49m\u001b[38;5;124;43m\"\u001b[39;49m\u001b[43m,\u001b[49m\u001b[43m \u001b[49m\u001b[38;5;124;43m\"\u001b[39;49m\u001b[38;5;124;43m\"\u001b[39;49m\u001b[43m,\u001b[49m\u001b[43m \u001b[49m\u001b[38;5;28;43mself\u001b[39;49m\u001b[38;5;241;43m.\u001b[39;49m\u001b[43moutput_dir\u001b[49m\u001b[43m)\u001b[49m\n\u001b[1;32m     52\u001b[0m     splitted_ids \u001b[38;5;241m=\u001b[39m output_relative_dir\u001b[38;5;241m.\u001b[39msplit(\u001b[38;5;124m\"\u001b[39m\u001b[38;5;124m/\u001b[39m\u001b[38;5;124m\"\u001b[39m)\n\u001b[1;32m     53\u001b[0m \u001b[38;5;28;01melse\u001b[39;00m:\n",
      "File \u001b[0;32m~/miniconda3/envs/caiman_test_env/lib/python3.8/re.py:210\u001b[0m, in \u001b[0;36msub\u001b[0;34m(pattern, repl, string, count, flags)\u001b[0m\n\u001b[1;32m    203\u001b[0m \u001b[38;5;28;01mdef\u001b[39;00m \u001b[38;5;21msub\u001b[39m(pattern, repl, string, count\u001b[38;5;241m=\u001b[39m\u001b[38;5;241m0\u001b[39m, flags\u001b[38;5;241m=\u001b[39m\u001b[38;5;241m0\u001b[39m):\n\u001b[1;32m    204\u001b[0m \u001b[38;5;250m    \u001b[39m\u001b[38;5;124;03m\"\"\"Return the string obtained by replacing the leftmost\u001b[39;00m\n\u001b[1;32m    205\u001b[0m \u001b[38;5;124;03m    non-overlapping occurrences of the pattern in string by the\u001b[39;00m\n\u001b[1;32m    206\u001b[0m \u001b[38;5;124;03m    replacement repl.  repl can be either a string or a callable;\u001b[39;00m\n\u001b[1;32m    207\u001b[0m \u001b[38;5;124;03m    if a string, backslash escapes in it are processed.  If it is\u001b[39;00m\n\u001b[1;32m    208\u001b[0m \u001b[38;5;124;03m    a callable, it's passed the Match object and must return\u001b[39;00m\n\u001b[1;32m    209\u001b[0m \u001b[38;5;124;03m    a replacement string to be used.\"\"\"\u001b[39;00m\n\u001b[0;32m--> 210\u001b[0m     \u001b[38;5;28;01mreturn\u001b[39;00m \u001b[43m_compile\u001b[49m\u001b[43m(\u001b[49m\u001b[43mpattern\u001b[49m\u001b[43m,\u001b[49m\u001b[43m \u001b[49m\u001b[43mflags\u001b[49m\u001b[43m)\u001b[49m\u001b[38;5;241;43m.\u001b[39;49m\u001b[43msub\u001b[49m\u001b[43m(\u001b[49m\u001b[43mrepl\u001b[49m\u001b[43m,\u001b[49m\u001b[43m \u001b[49m\u001b[43mstring\u001b[49m\u001b[43m,\u001b[49m\u001b[43m \u001b[49m\u001b[43mcount\u001b[49m\u001b[43m)\u001b[49m\n",
      "\u001b[0;31mTypeError\u001b[0m: expected string or bytes-like object"
     ]
    }
   ],
   "source": [
    "ret = motion_correction.caiman_mc(sample_data, motion_correction_params)"
   ]
  },
  {
   "cell_type": "code",
   "execution_count": null,
   "id": "10730c61",
   "metadata": {},
   "outputs": [],
   "source": [
    "caiman_cnmf_params = {\n",
    "    'p': 1,\n",
    "    'nb': 2,\n",
    "    'merge_thr': 0.85,\n",
    "    'rf': None,\n",
    "    'stride': 6,\n",
    "    'K': 4,\n",
    "    'gSig': [4, 4], \n",
    "    'method_init': 'greedy_roi',\n",
    "    'ssub': 1,\n",
    "    'tsub': 1,\n",
    "    'thr': 0.9,\n",
    "}"
   ]
  },
  {
   "cell_type": "code",
   "execution_count": null,
   "id": "f24c5866",
   "metadata": {
    "scrolled": true
   },
   "outputs": [],
   "source": [
    "ret = cnmf.caiman_cnmf(ret['mc_images'], caiman_cnmf_params)"
   ]
  },
  {
   "cell_type": "code",
   "execution_count": null,
   "id": "8ba3c7a6",
   "metadata": {},
   "outputs": [],
   "source": [
    "import plotly.graph_objects as go\n",
    "from plotly.subplots import make_subplots\n",
    "\n",
    "# Create subplot figure\n",
    "fig = make_subplots(rows=2, cols=2, \n",
    "                    subplot_titles=('Mean Image with ROIs', 'Components Spatial', \n",
    "                                  'Components Temporal', 'Residuals'))\n",
    "\n",
    "# Plot mean image with ROIs overlay\n",
    "Cn = local_correlations(mc_images.transpose(1, 2, 0))\n",
    "fig.add_trace(\n",
    "    go.Heatmap(z=Cn, colorscale='gray'),\n",
    "    row=1, col=1\n",
    ")\n",
    "\n",
    "# Add ROI contours\n",
    "for i in range(cnm.estimates.A.shape[1]):\n",
    "    roi = cnm.estimates.A[:, i].toarray().reshape(dims, order='F')\n",
    "    if i in cnm.estimates.idx_components:\n",
    "        color = 'red'  # Good components\n",
    "    else:\n",
    "        color = 'blue' # Rejected components\n",
    "    fig.add_trace(\n",
    "        go.Contour(z=roi, showscale=False, \n",
    "                   contours=dict(coloring='lines', \n",
    "                   showlabels=True),\n",
    "                   line=dict(color=color)),\n",
    "        row=1, col=1\n",
    "    )\n",
    "\n",
    "# Plot spatial components\n",
    "fig.add_trace(\n",
    "    go.Heatmap(z=cnm.estimates.A.toarray().reshape((*dims, -1))[:,:,0],\n",
    "               colorscale='viridis'),\n",
    "    row=1, col=2\n",
    ")\n",
    "\n",
    "# Plot temporal components \n",
    "fig.add_trace(\n",
    "    go.Scatter(y=cnm.estimates.C[0], mode='lines'),\n",
    "    row=2, col=1\n",
    ")\n",
    "\n",
    "# Plot residuals\n",
    "fig.add_trace(\n",
    "    go.Heatmap(z=cnm.estimates.b.reshape(dims, order='F'),\n",
    "               colorscale='viridis'),\n",
    "    row=2, col=2\n",
    ")\n",
    "\n",
    "fig.update_layout(height=800, width=1000, title_text=\"CNMF Results\")\n",
    "fig.show()"
   ]
  }
 ],
 "metadata": {
  "kernelspec": {
   "display_name": "caiman_test_env",
   "language": "python",
   "name": "python3"
  },
  "language_info": {
   "codemirror_mode": {
    "name": "ipython",
    "version": 3
   },
   "file_extension": ".py",
   "mimetype": "text/x-python",
   "name": "python",
   "nbconvert_exporter": "python",
   "pygments_lexer": "ipython3",
   "version": "3.8.20"
  }
 },
 "nbformat": 4,
 "nbformat_minor": 5
}

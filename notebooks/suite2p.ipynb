{
 "cells": [
  {
   "cell_type": "markdown",
   "id": "a31d0d3c",
   "metadata": {},
   "source": [
    "`conda env create -n suite2p_env -f optinist/conda/suite2p_env.yaml`\n",
    "\n",
    "`!pip install imageio pynwb`"
   ]
  },
  {
   "cell_type": "code",
   "execution_count": 1,
   "id": "df7ebe92",
   "metadata": {},
   "outputs": [],
   "source": [
    "import os\n",
    "import sys\n",
    "sys.path.append(os.path.abspath('..'))\n",
    "\n",
    "from optinist.wrappers.suite2p_wrapper import file_convert, registration, roi\n",
    "from optinist.api.dataclass.dataclass import ImageData"
   ]
  },
  {
   "cell_type": "code",
   "execution_count": 2,
   "id": "02a1948b",
   "metadata": {},
   "outputs": [],
   "source": [
    "sample_data = ImageData(['../sample_data/mouse2p_2_donotouse.tiff'], \"\")"
   ]
  },
  {
   "cell_type": "code",
   "execution_count": 3,
   "id": "c4b86eb6",
   "metadata": {},
   "outputs": [],
   "source": [
    "file_convert_params = {\n",
    "    'nplanes': 1,\n",
    "    'nchannels': 1,\n",
    "    'force_sktiff': False,\n",
    "    'batch_size': 500,\n",
    "    'do_registration': 1\n",
    "}"
   ]
  },
  {
   "cell_type": "code",
   "execution_count": 4,
   "id": "4000581b",
   "metadata": {
    "scrolled": true
   },
   "outputs": [
    {
     "name": "stderr",
     "output_type": "stream",
     "text": [
      "OMP: Info #276: omp_set_nested routine deprecated, please use omp_set_max_active_levels instead.\n"
     ]
    },
    {
     "name": "stdout",
     "output_type": "stream",
     "text": [
      "Warning: cellpose did not import\n",
      "No module named 'cellpose'\n",
      "cannot use anatomical mode, but otherwise suite2p will run normally\n",
      "start suite2_file_convert\n",
      "<class 'list'>\n",
      "../sample_data/mouse2p_2_donotouse.tiff\n",
      "['../sample_data']\n",
      "['mouse2p_2_donotouse.tiff']\n",
      "tif\n",
      "** Found 1 tifs - converting to binary **\n",
      "NOTE: ScanImageTiffReader not working for this tiff type, using tifffile\n"
     ]
    },
    {
     "data": {
      "text/plain": [
       "{'meanImg': <optinist.api.dataclass.image.ImageData at 0x7fcc73963250>,\n",
       " 'ops': <optinist.api.dataclass.suite2p.Suite2pData at 0x7fcc820cbcd0>}"
      ]
     },
     "execution_count": 4,
     "metadata": {},
     "output_type": "execute_result"
    }
   ],
   "source": [
    "ret = file_convert.suite2p_file_convert(sample_data, file_convert_params)\n",
    "ret"
   ]
  },
  {
   "cell_type": "code",
   "execution_count": 5,
   "id": "60b3b792",
   "metadata": {},
   "outputs": [],
   "source": [
    "registration_params = {\n",
    "    'frames_include': -1,\n",
    "    'keep_movie_raw': False,\n",
    "    'do_bidiphase': False,\n",
    "\n",
    "    'smooth_sigma': 1.15,\n",
    "    'smooth_sigma_time': 0,\n",
    "    'bidiphase': 0,\n",
    "    'maxregshift': 0.1,\n",
    "    'maxregshiftNR': 5,\n",
    "    'nonrigid': True,\n",
    "    'block_size': [128, 128],\n",
    "    'snr_thresh': 1.2,\n",
    "    'functional_chan' : 1,\n",
    "    'align_by_chan' : 1,\n",
    "    'reg_tif': False,\n",
    "    'th_badframes': 1.0,\n",
    "    'diameter': 0,\n",
    "\n",
    "    # 1P setting\n",
    "    '1Preg': False,\n",
    "    'spatial_hp_reg': 42,\n",
    "    'pre_smooth': 0,\n",
    "    'spatial_taper': 40,\n",
    "    'bidi_corrected': False,\n",
    "}"
   ]
  },
  {
   "cell_type": "code",
   "execution_count": 6,
   "id": "41c87d0e",
   "metadata": {},
   "outputs": [
    {
     "name": "stdout",
     "output_type": "stream",
     "text": [
      "start suite2_registration\n",
      "{'suite2p_version': '0.10.3', 'look_one_level_down': False, 'fast_disk': '/tmp/optinist/output/suite2p/plane0', 'delete_bin': False, 'mesoscan': False, 'bruker': False, 'bruker_bidirectional': False, 'h5py': [], 'h5py_key': 'data', 'nwb_file': '', 'nwb_driver': '', 'nwb_series': '', 'save_path0': '/tmp/optinist/output', 'save_folder': 'suite2p', 'subfolders': [], 'move_bin': False, 'nplanes': 1, 'nchannels': 1, 'functional_chan': 1, 'tau': 1.0, 'fs': 10.0, 'force_sktiff': False, 'frames_include': -1, 'multiplane_parallel': False, 'ignore_flyback': [], 'preclassify': 0.0, 'save_mat': False, 'save_NWB': False, 'combined': True, 'aspect': 1.0, 'do_bidiphase': False, 'bidiphase': 0, 'bidi_corrected': False, 'do_registration': 1, 'two_step_registration': False, 'keep_movie_raw': False, 'nimg_init': 300, 'batch_size': 500, 'maxregshift': 0.1, 'align_by_chan': 1, 'reg_tif': False, 'reg_tif_chan2': False, 'subpixel': 10, 'smooth_sigma_time': 0, 'smooth_sigma': 1.15, 'th_badframes': 1.0, 'norm_frames': True, 'force_refImg': False, 'pad_fft': False, 'nonrigid': True, 'block_size': [128, 128], 'snr_thresh': 1.2, 'maxregshiftNR': 5, '1Preg': False, 'spatial_hp': 42, 'spatial_hp_reg': 42, 'spatial_hp_detect': 25, 'pre_smooth': 0, 'spatial_taper': 40, 'roidetect': True, 'spikedetect': True, 'anatomical_only': 0, 'cellprob_threshold': 0.0, 'flow_threshold': 1.5, 'sparse_mode': True, 'diameter': 0, 'spatial_scale': 0, 'connected': True, 'nbinned': 5000, 'max_iterations': 20, 'threshold_scaling': 1.0, 'max_overlap': 0.75, 'high_pass': 100, 'denoise': False, 'soma_crop': True, 'neuropil_extract': True, 'inner_neuropil_radius': 2, 'min_neuropil_pixels': 350, 'lam_percentile': 50.0, 'allow_overlap': False, 'use_builtin_classifier': False, 'classifier_path': 0, 'chan2_thres': 0.65, 'baseline': 'maximin', 'win_baseline': 60.0, 'sig_baseline': 10.0, 'prctile_baseline': 8.0, 'neucoeff': 0.7, 'data_path': ['../sample_data'], 'tiff_list': ['mouse2p_2_donotouse.tiff'], 'save_path': '/tmp/optinist/output/suite2p/plane0', 'ops_path': '/tmp/optinist/output/suite2p/plane0/ops.npy', 'reg_file': '/tmp/optinist/output/suite2p/plane0/data.bin', 'first_tiffs': array([ True]), 'frames_per_folder': array([1000], dtype=int32), 'filelist': ['../sample_data/mouse2p_2_donotouse.tiff'], 'nframes': 1000, 'frames_per_file': array([1000]), 'meanImg': array([[5458.034, 5080.613, 5044.002, ..., 9120.292, 8560.838, 7082.502],\n",
      "       [4690.692, 4671.677, 4717.684, ..., 8818.015, 7908.821, 7374.881],\n",
      "       [4450.994, 4552.439, 4847.864, ..., 9376.922, 8501.433, 8582.811],\n",
      "       ...,\n",
      "       [5021.959, 4587.998, 4332.773, ..., 3267.985, 3282.5  , 3137.961],\n",
      "       [4963.992, 4730.13 , 4329.363, ..., 3666.444, 3423.563, 3226.016],\n",
      "       [4743.141, 4651.707, 4494.204, ..., 3529.855, 3489.184, 3358.17 ]],\n",
      "      dtype=float32), 'Ly': 128, 'Lx': 128, 'yrange': array([  0, 128]), 'xrange': array([  0, 128])}\n",
      "registering 1000 frames\n",
      "NOTE: user reference frame given\n"
     ]
    },
    {
     "name": "stderr",
     "output_type": "stream",
     "text": [
      "/Users/keita/opt/anaconda3/envs/suite2p_env_38/lib/python3.8/site-packages/suite2p/registration/utils.py:234: RuntimeWarning: invalid value encountered in apply_dotnorm\n",
      "  return ifft2(apply_dotnorm(fft2(mov), img)) #.astype(np.complex64)\n"
     ]
    },
    {
     "name": "stdout",
     "output_type": "stream",
     "text": [
      "added enhanced mean image\n"
     ]
    }
   ],
   "source": [
    "ret = registration.suite2p_registration(ret['ops'], registration_params)"
   ]
  },
  {
   "cell_type": "code",
   "execution_count": 7,
   "id": "3fb844d5",
   "metadata": {},
   "outputs": [],
   "source": [
    "suite2p_roi_params = {\n",
    "    # main settings\n",
    "    'tau':  1.0,              # this is the main parameter for deconvolution\n",
    "    'fs': 10.0,             # sampling rate (PER PLANE e.g. for 12 plane recordings it will be around 2.5)\n",
    "\n",
    "    # classification parameters\n",
    "    'soma_crop': True,        # crop dendrites for cell classification stats like compactness\n",
    "\n",
    "    # cell detection settings\n",
    "    'high_pass': 100,         # running mean subtraction with window of size 'high_pass(use low values for 1P)\n",
    "    'sparse_mode': True,      # whether or not to run sparse_mode\n",
    "    'max_overlap': 0.75,      # cells with more overlap than this get removed during triage before refinement\n",
    "    'nbinned': 5000,          # max number of binned frames for cell detection\n",
    "    'spatial_scale': 0,       # 0: multi-scale; 1: 6 pixels 2: 12 pixels 3: 24 pixels 4: 48 pixels\n",
    "    'threshold_scaling': 1.0, # adjust the automatically determined threshold by this scalar multiplier\n",
    "    'max_iterations': 20,     # maximum number of iterations to do cell detection\n",
    "\n",
    "    # 1P settings\n",
    "    'spatial_hp_detect': 25,  # window for spatial high-pass filtering for neuropil subtraction before detection\n",
    "\n",
    "    # output settings\n",
    "    'preclassify': 0.,       # apply classifier before signal extraction with probability 0.3\n",
    "\n",
    "    # ROI extraction parameters\n",
    "    'allow_overlap': False,      # pixels that are overlapping are thrown out (False) or added to both ROIs (True)\n",
    "    'inner_neuropil_radius': 2,  # number of pixels to keep between ROI and neuropil donut\n",
    "    'min_neuropil_pixels': 350,  # minimum number of pixels in the neuropil\n",
    "\n",
    "    # deconvolution settings\n",
    "    'neucoeff': .7,          # neuropil coefficient\n",
    "}"
   ]
  },
  {
   "cell_type": "code",
   "execution_count": 8,
   "id": "adb91557",
   "metadata": {},
   "outputs": [
    {
     "name": "stdout",
     "output_type": "stream",
     "text": [
      "start suite2p_roi\n",
      "NOTE: Applying builtin classifier at /Users/keita/opt/anaconda3/envs/suite2p_env_38/lib/python3.8/site-packages/suite2p/classifiers/classifier.npy\n",
      "Binning movie in chunks of length 10\n",
      "Binned movie [100,122,126] in 0.02 sec.\n",
      "NOTE: FORCED spatial scale ~6 pixels, time epochs 1.00, threshold 5.00 \n",
      "0 ROIs, score=62.26\n"
     ]
    },
    {
     "name": "stderr",
     "output_type": "stream",
     "text": [
      "/Users/keita/opt/anaconda3/envs/suite2p_env_38/lib/python3.8/site-packages/suite2p/detection/sparsedetect.py:256: FutureWarning: Unlike other reduction functions (e.g. `skew`, `kurtosis`), the default behavior of `mode` typically preserves the axis it acts along. In SciPy 1.11.0, this behavior will change: the default value of `keepdims` will become False, the `axis` over which the statistic is taken will be eliminated, and the value None will no longer be accepted. Set `keepdims` to True or False to avoid this warning.\n",
      "  im, _ = mode(imap[ipk][isort[:50]])\n",
      "/Users/keita/opt/anaconda3/envs/suite2p_env_38/lib/python3.8/site-packages/suite2p/detection/sparsedetect.py:270: UserWarning: Spatial scale estimation failed.  Setting spatial scale to 1 in order to continue.\n",
      "  warn(\"Spatial scale estimation failed.  Setting spatial scale to 1 in order to continue.\")\n"
     ]
    },
    {
     "name": "stdout",
     "output_type": "stream",
     "text": [
      "Detected 187 ROIs, 0.49 sec\n",
      "After removing overlaps, 177 ROIs remain\n",
      "roi extraction\n",
      "Masks created, 0.07 sec.\n",
      "Extracted fluorescence from 177 ROIs in 1000 frames, 2.49 sec.\n",
      "roi classification\n",
      "['compact', 'npix_norm', 'skew']\n"
     ]
    },
    {
     "name": "stderr",
     "output_type": "stream",
     "text": [
      "/Users/keita/Code/optinist_test/optinist/wrappers/suite2p_wrapper/roi.py:101: RuntimeWarning: All-NaN slice encountered\n",
      "  'all_roi': RoiData(np.nanmax(im, axis=0), file_name='all_roi'),\n",
      "/Users/keita/Code/optinist_test/optinist/wrappers/suite2p_wrapper/roi.py:102: RuntimeWarning: All-NaN slice encountered\n",
      "  'non_cell_roi': RoiData(np.nanmax(im[~iscell], axis=0), file_name='noncell_roi'),\n",
      "/Users/keita/Code/optinist_test/optinist/wrappers/suite2p_wrapper/roi.py:103: RuntimeWarning: All-NaN slice encountered\n",
      "  'cell_roi': RoiData(np.nanmax(im[iscell], axis=0), file_name='cell_roi'),\n"
     ]
    }
   ],
   "source": [
    "ret = roi.suite2p_roi(ret['ops'], suite2p_roi_params)"
   ]
  },
  {
   "cell_type": "code",
   "execution_count": 19,
   "id": "14b562d3",
   "metadata": {},
   "outputs": [
    {
     "name": "stdout",
     "output_type": "stream",
     "text": [
      "dict_keys(['pixel_mask'])\n",
      "dict_keys(['pixel_mask'])\n",
      "dict_keys(['pixel_mask'])\n",
      "dict_keys(['pixel_mask'])\n",
      "dict_keys(['pixel_mask'])\n",
      "dict_keys(['pixel_mask'])\n",
      "dict_keys(['pixel_mask'])\n",
      "dict_keys(['pixel_mask'])\n",
      "dict_keys(['pixel_mask'])\n",
      "dict_keys(['pixel_mask'])\n",
      "dict_keys(['pixel_mask'])\n",
      "dict_keys(['pixel_mask'])\n",
      "dict_keys(['pixel_mask'])\n",
      "dict_keys(['pixel_mask'])\n",
      "dict_keys(['pixel_mask'])\n",
      "dict_keys(['pixel_mask'])\n",
      "dict_keys(['pixel_mask'])\n",
      "dict_keys(['pixel_mask'])\n",
      "dict_keys(['pixel_mask'])\n",
      "dict_keys(['pixel_mask'])\n",
      "dict_keys(['pixel_mask'])\n",
      "dict_keys(['pixel_mask'])\n",
      "dict_keys(['pixel_mask'])\n",
      "dict_keys(['pixel_mask'])\n",
      "dict_keys(['pixel_mask'])\n",
      "dict_keys(['pixel_mask'])\n",
      "dict_keys(['pixel_mask'])\n",
      "dict_keys(['pixel_mask'])\n",
      "dict_keys(['pixel_mask'])\n",
      "dict_keys(['pixel_mask'])\n",
      "dict_keys(['pixel_mask'])\n",
      "dict_keys(['pixel_mask'])\n",
      "dict_keys(['pixel_mask'])\n",
      "dict_keys(['pixel_mask'])\n",
      "dict_keys(['pixel_mask'])\n",
      "dict_keys(['pixel_mask'])\n",
      "dict_keys(['pixel_mask'])\n",
      "dict_keys(['pixel_mask'])\n",
      "dict_keys(['pixel_mask'])\n",
      "dict_keys(['pixel_mask'])\n",
      "dict_keys(['pixel_mask'])\n",
      "dict_keys(['pixel_mask'])\n",
      "dict_keys(['pixel_mask'])\n",
      "dict_keys(['pixel_mask'])\n",
      "dict_keys(['pixel_mask'])\n",
      "dict_keys(['pixel_mask'])\n",
      "dict_keys(['pixel_mask'])\n",
      "dict_keys(['pixel_mask'])\n",
      "dict_keys(['pixel_mask'])\n",
      "dict_keys(['pixel_mask'])\n",
      "dict_keys(['pixel_mask'])\n",
      "dict_keys(['pixel_mask'])\n",
      "dict_keys(['pixel_mask'])\n",
      "dict_keys(['pixel_mask'])\n",
      "dict_keys(['pixel_mask'])\n",
      "dict_keys(['pixel_mask'])\n",
      "dict_keys(['pixel_mask'])\n",
      "dict_keys(['pixel_mask'])\n",
      "dict_keys(['pixel_mask'])\n",
      "dict_keys(['pixel_mask'])\n",
      "dict_keys(['pixel_mask'])\n",
      "dict_keys(['pixel_mask'])\n",
      "dict_keys(['pixel_mask'])\n",
      "dict_keys(['pixel_mask'])\n",
      "dict_keys(['pixel_mask'])\n",
      "dict_keys(['pixel_mask'])\n",
      "dict_keys(['pixel_mask'])\n",
      "dict_keys(['pixel_mask'])\n",
      "dict_keys(['pixel_mask'])\n",
      "dict_keys(['pixel_mask'])\n",
      "dict_keys(['pixel_mask'])\n",
      "dict_keys(['pixel_mask'])\n",
      "dict_keys(['pixel_mask'])\n",
      "dict_keys(['pixel_mask'])\n",
      "dict_keys(['pixel_mask'])\n",
      "dict_keys(['pixel_mask'])\n",
      "dict_keys(['pixel_mask'])\n",
      "dict_keys(['pixel_mask'])\n",
      "dict_keys(['pixel_mask'])\n",
      "dict_keys(['pixel_mask'])\n",
      "dict_keys(['pixel_mask'])\n",
      "dict_keys(['pixel_mask'])\n",
      "dict_keys(['pixel_mask'])\n",
      "dict_keys(['pixel_mask'])\n",
      "dict_keys(['pixel_mask'])\n",
      "dict_keys(['pixel_mask'])\n",
      "dict_keys(['pixel_mask'])\n",
      "dict_keys(['pixel_mask'])\n",
      "dict_keys(['pixel_mask'])\n",
      "dict_keys(['pixel_mask'])\n",
      "dict_keys(['pixel_mask'])\n",
      "dict_keys(['pixel_mask'])\n",
      "dict_keys(['pixel_mask'])\n",
      "dict_keys(['pixel_mask'])\n",
      "dict_keys(['pixel_mask'])\n",
      "dict_keys(['pixel_mask'])\n",
      "dict_keys(['pixel_mask'])\n",
      "dict_keys(['pixel_mask'])\n",
      "dict_keys(['pixel_mask'])\n",
      "dict_keys(['pixel_mask'])\n",
      "dict_keys(['pixel_mask'])\n",
      "dict_keys(['pixel_mask'])\n",
      "dict_keys(['pixel_mask'])\n",
      "dict_keys(['pixel_mask'])\n",
      "dict_keys(['pixel_mask'])\n",
      "dict_keys(['pixel_mask'])\n",
      "dict_keys(['pixel_mask'])\n",
      "dict_keys(['pixel_mask'])\n",
      "dict_keys(['pixel_mask'])\n",
      "dict_keys(['pixel_mask'])\n",
      "dict_keys(['pixel_mask'])\n",
      "dict_keys(['pixel_mask'])\n",
      "dict_keys(['pixel_mask'])\n",
      "dict_keys(['pixel_mask'])\n",
      "dict_keys(['pixel_mask'])\n",
      "dict_keys(['pixel_mask'])\n",
      "dict_keys(['pixel_mask'])\n",
      "dict_keys(['pixel_mask'])\n",
      "dict_keys(['pixel_mask'])\n",
      "dict_keys(['pixel_mask'])\n",
      "dict_keys(['pixel_mask'])\n",
      "dict_keys(['pixel_mask'])\n",
      "dict_keys(['pixel_mask'])\n",
      "dict_keys(['pixel_mask'])\n",
      "dict_keys(['pixel_mask'])\n",
      "dict_keys(['pixel_mask'])\n",
      "dict_keys(['pixel_mask'])\n",
      "dict_keys(['pixel_mask'])\n",
      "dict_keys(['pixel_mask'])\n",
      "dict_keys(['pixel_mask'])\n",
      "dict_keys(['pixel_mask'])\n",
      "dict_keys(['pixel_mask'])\n",
      "dict_keys(['pixel_mask'])\n",
      "dict_keys(['pixel_mask'])\n",
      "dict_keys(['pixel_mask'])\n",
      "dict_keys(['pixel_mask'])\n",
      "dict_keys(['pixel_mask'])\n",
      "dict_keys(['pixel_mask'])\n",
      "dict_keys(['pixel_mask'])\n",
      "dict_keys(['pixel_mask'])\n",
      "dict_keys(['pixel_mask'])\n",
      "dict_keys(['pixel_mask'])\n",
      "dict_keys(['pixel_mask'])\n",
      "dict_keys(['pixel_mask'])\n",
      "dict_keys(['pixel_mask'])\n",
      "dict_keys(['pixel_mask'])\n",
      "dict_keys(['pixel_mask'])\n",
      "dict_keys(['pixel_mask'])\n",
      "dict_keys(['pixel_mask'])\n",
      "dict_keys(['pixel_mask'])\n",
      "dict_keys(['pixel_mask'])\n",
      "dict_keys(['pixel_mask'])\n",
      "dict_keys(['pixel_mask'])\n",
      "dict_keys(['pixel_mask'])\n",
      "dict_keys(['pixel_mask'])\n",
      "dict_keys(['pixel_mask'])\n",
      "dict_keys(['pixel_mask'])\n",
      "dict_keys(['pixel_mask'])\n",
      "dict_keys(['pixel_mask'])\n",
      "dict_keys(['pixel_mask'])\n",
      "dict_keys(['pixel_mask'])\n",
      "dict_keys(['pixel_mask'])\n",
      "dict_keys(['pixel_mask'])\n",
      "dict_keys(['pixel_mask'])\n",
      "dict_keys(['pixel_mask'])\n",
      "dict_keys(['pixel_mask'])\n",
      "dict_keys(['pixel_mask'])\n",
      "dict_keys(['pixel_mask'])\n",
      "dict_keys(['pixel_mask'])\n",
      "dict_keys(['pixel_mask'])\n",
      "dict_keys(['pixel_mask'])\n",
      "dict_keys(['pixel_mask'])\n",
      "dict_keys(['pixel_mask'])\n",
      "dict_keys(['pixel_mask'])\n",
      "dict_keys(['pixel_mask'])\n",
      "dict_keys(['pixel_mask'])\n",
      "dict_keys(['pixel_mask'])\n"
     ]
    }
   ],
   "source": [
    "for roi in ret['nwbfile']['ROI']['roi_list']:\n",
    "    print(roi.keys())"
   ]
  }
 ],
 "metadata": {
  "kernelspec": {
   "display_name": "Python 3 (ipykernel)",
   "language": "python",
   "name": "python3"
  },
  "language_info": {
   "codemirror_mode": {
    "name": "ipython",
    "version": 3
   },
   "file_extension": ".py",
   "mimetype": "text/x-python",
   "name": "python",
   "nbconvert_exporter": "python",
   "pygments_lexer": "ipython3",
   "version": "3.8.16"
  }
 },
 "nbformat": 4,
 "nbformat_minor": 5
}

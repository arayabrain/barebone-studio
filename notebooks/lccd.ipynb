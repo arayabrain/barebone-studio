{
 "cells": [
  {
   "cell_type": "markdown",
   "id": "a31d0d3c",
   "metadata": {},
   "source": [
    "`conda env create -n lccd_env -f optinist/conda/lccd_env.yaml`"
   ]
  },
  {
   "cell_type": "code",
   "execution_count": null,
   "id": "c8776c7d",
   "metadata": {},
   "outputs": [],
   "source": [
    "!pip install pynwb"
   ]
  },
  {
   "cell_type": "code",
   "execution_count": null,
   "id": "df7ebe92",
   "metadata": {},
   "outputs": [],
   "source": [
    "import os\n",
    "import sys\n",
    "sys.path.append(os.path.abspath('..'))"
   ]
  },
  {
   "cell_type": "code",
   "execution_count": null,
   "id": "003685fb",
   "metadata": {},
   "outputs": [],
   "source": [
    "from optinist.wrappers.lccd_wrapper import lccd_detection\n",
    "from optinist.api.dataclass.dataclass import ImageData"
   ]
  },
  {
   "cell_type": "code",
   "execution_count": null,
   "id": "02a1948b",
   "metadata": {},
   "outputs": [],
   "source": [
    "sample_data = ImageData([\"../sample_data/mouse2p_2_donotouse.tiff\"])"
   ]
  },
  {
   "cell_type": "code",
   "execution_count": null,
   "id": "c4b86eb6",
   "metadata": {},
   "outputs": [],
   "source": [
    "lccd_detection_params = {\n",
    "    'blob_detector': {\n",
    "      'filtersize1': 100,\n",
    "      'filtersize2': 4,\n",
    "      'sigma': 1.25,\n",
    "      'fsize': 30,\n",
    "      'min_area': 20,\n",
    "      'max_area': 50,\n",
    "      'sparse': False\n",
    "    },\n",
    "    'roi_integration': {\n",
    "      'overlap_threshold': 0.4,\n",
    "      'min_area': 20,\n",
    "      'max_area': 100,\n",
    "      'sparse': False\n",
    "    },\n",
    "    'lccd': {\n",
    "      'frame_divider': 100\n",
    "    },\n",
    "    'dff': {\n",
    "      'f0_frames': 100,\n",
    "      'f0_percentile': 8\n",
    "    }\n",
    "}"
   ]
  },
  {
   "cell_type": "code",
   "execution_count": null,
   "id": "4000581b",
   "metadata": {},
   "outputs": [],
   "source": [
    "ret = lccd_detection.lccd_detect(sample_data, lccd_detection_params)"
   ]
  },
  {
   "cell_type": "code",
   "execution_count": null,
   "id": "c956a41a",
   "metadata": {},
   "outputs": [],
   "source": [
    "ret"
   ]
  }
 ],
 "metadata": {
  "kernelspec": {
   "display_name": "Python 3 (ipykernel)",
   "language": "python",
   "name": "python3"
  },
  "language_info": {
   "codemirror_mode": {
    "name": "ipython",
    "version": 3
   },
   "file_extension": ".py",
   "mimetype": "text/x-python",
   "name": "python",
   "nbconvert_exporter": "python",
   "pygments_lexer": "ipython3",
   "version": "3.8.16"
  }
 },
 "nbformat": 4,
 "nbformat_minor": 5
}

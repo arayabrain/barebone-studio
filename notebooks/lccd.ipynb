{
 "cells": [
  {
   "cell_type": "markdown",
   "id": "a31d0d3c",
   "metadata": {},
   "source": [
    "`conda env create -n lccd_env -f optinist/conda/lccd_env.yaml`"
   ]
  },
  {
   "cell_type": "code",
   "execution_count": 4,
   "id": "c8776c7d",
   "metadata": {},
   "outputs": [
    {
     "name": "stdout",
     "output_type": "stream",
     "text": [
      "Collecting pynwb\n",
      "  Using cached pynwb-2.3.1-py3-none-any.whl (131 kB)\n",
      "Collecting hdmf<4,>=3.5.1\n",
      "  Using cached hdmf-3.5.2-py3-none-any.whl (191 kB)\n",
      "Requirement already satisfied: python-dateutil<3,>=2.7.3 in /Users/keita/opt/anaconda3/envs/lccd_env/lib/python3.8/site-packages (from pynwb) (2.8.2)\n",
      "Collecting numpy<1.24,>=1.16\n",
      "  Using cached numpy-1.23.5-cp38-cp38-macosx_10_9_x86_64.whl (18.1 MB)\n",
      "Requirement already satisfied: pandas<2,>=1.1.5 in /Users/keita/opt/anaconda3/envs/lccd_env/lib/python3.8/site-packages (from pynwb) (1.5.3)\n",
      "Requirement already satisfied: setuptools in /Users/keita/opt/anaconda3/envs/lccd_env/lib/python3.8/site-packages (from pynwb) (65.6.3)\n",
      "Collecting h5py<4,>=2.10\n",
      "  Using cached h5py-3.8.0-cp38-cp38-macosx_10_9_x86_64.whl (3.2 MB)\n",
      "Requirement already satisfied: jsonschema<5,>=2.6.0 in /Users/keita/opt/anaconda3/envs/lccd_env/lib/python3.8/site-packages (from hdmf<4,>=3.5.1->pynwb) (4.17.3)\n",
      "Collecting ruamel.yaml<1,>=0.16\n",
      "  Using cached ruamel.yaml-0.17.21-py3-none-any.whl (109 kB)\n",
      "Requirement already satisfied: scipy<2,>=1.1 in /Users/keita/opt/anaconda3/envs/lccd_env/lib/python3.8/site-packages (from hdmf<4,>=3.5.1->pynwb) (1.9.1)\n",
      "Requirement already satisfied: pytz>=2020.1 in /Users/keita/opt/anaconda3/envs/lccd_env/lib/python3.8/site-packages (from pandas<2,>=1.1.5->pynwb) (2022.7.1)\n",
      "Requirement already satisfied: six>=1.5 in /Users/keita/opt/anaconda3/envs/lccd_env/lib/python3.8/site-packages (from python-dateutil<3,>=2.7.3->pynwb) (1.16.0)\n",
      "Requirement already satisfied: pkgutil-resolve-name>=1.3.10 in /Users/keita/opt/anaconda3/envs/lccd_env/lib/python3.8/site-packages (from jsonschema<5,>=2.6.0->hdmf<4,>=3.5.1->pynwb) (1.3.10)\n",
      "Requirement already satisfied: pyrsistent!=0.17.0,!=0.17.1,!=0.17.2,>=0.14.0 in /Users/keita/opt/anaconda3/envs/lccd_env/lib/python3.8/site-packages (from jsonschema<5,>=2.6.0->hdmf<4,>=3.5.1->pynwb) (0.19.3)\n",
      "Requirement already satisfied: attrs>=17.4.0 in /Users/keita/opt/anaconda3/envs/lccd_env/lib/python3.8/site-packages (from jsonschema<5,>=2.6.0->hdmf<4,>=3.5.1->pynwb) (22.2.0)\n",
      "Requirement already satisfied: importlib-resources>=1.4.0 in /Users/keita/opt/anaconda3/envs/lccd_env/lib/python3.8/site-packages (from jsonschema<5,>=2.6.0->hdmf<4,>=3.5.1->pynwb) (5.12.0)\n",
      "Collecting ruamel.yaml.clib>=0.2.6\n",
      "  Using cached ruamel.yaml.clib-0.2.7-cp38-cp38-macosx_10_9_x86_64.whl (143 kB)\n",
      "Requirement already satisfied: zipp>=3.1.0 in /Users/keita/opt/anaconda3/envs/lccd_env/lib/python3.8/site-packages (from importlib-resources>=1.4.0->jsonschema<5,>=2.6.0->hdmf<4,>=3.5.1->pynwb) (3.15.0)\n",
      "Installing collected packages: ruamel.yaml.clib, numpy, ruamel.yaml, h5py, hdmf, pynwb\n",
      "  Attempting uninstall: numpy\n",
      "    Found existing installation: numpy 1.24.2\n",
      "    Uninstalling numpy-1.24.2:\n",
      "      Successfully uninstalled numpy-1.24.2\n",
      "Successfully installed h5py-3.8.0 hdmf-3.5.2 numpy-1.23.5 pynwb-2.3.1 ruamel.yaml-0.17.21 ruamel.yaml.clib-0.2.7\n"
     ]
    }
   ],
   "source": [
    "!pip install pynwb"
   ]
  },
  {
   "cell_type": "code",
   "execution_count": 2,
   "id": "df7ebe92",
   "metadata": {},
   "outputs": [],
   "source": [
    "import os\n",
    "import sys\n",
    "sys.path.append(os.path.abspath('..'))"
   ]
  },
  {
   "cell_type": "code",
   "execution_count": 5,
   "id": "003685fb",
   "metadata": {},
   "outputs": [],
   "source": [
    "from optinist.wrappers.lccd_wrapper import lccd_detection\n",
    "from optinist.api.dataclass.dataclass import ImageData"
   ]
  },
  {
   "cell_type": "code",
   "execution_count": 13,
   "id": "02a1948b",
   "metadata": {},
   "outputs": [],
   "source": [
    "sample_data = ImageData([\"../sample_data/mouse2p_2_donotouse.tiff\"])"
   ]
  },
  {
   "cell_type": "code",
   "execution_count": 9,
   "id": "c4b86eb6",
   "metadata": {},
   "outputs": [],
   "source": [
    "lccd_detection_params = {\n",
    "    'blob_detector': {\n",
    "      'filtersize1': 100,\n",
    "      'filtersize2': 4,\n",
    "      'sigma': 1.25,\n",
    "      'fsize': 30,\n",
    "      'min_area': 20,\n",
    "      'max_area': 50,\n",
    "      'sparse': False\n",
    "    },\n",
    "    'roi_integration': {\n",
    "      'overlap_threshold': 0.4,\n",
    "      'min_area': 20,\n",
    "      'max_area': 100,\n",
    "      'sparse': False\n",
    "    },\n",
    "    'lccd': {\n",
    "      'frame_divider': 100\n",
    "    },\n",
    "    'dff': {\n",
    "      'f0_frames': 100,\n",
    "      'f0_percentile': 8\n",
    "    }\n",
    "}"
   ]
  },
  {
   "cell_type": "code",
   "execution_count": 14,
   "id": "4000581b",
   "metadata": {},
   "outputs": [
    {
     "name": "stdout",
     "output_type": "stream",
     "text": [
      "params:  {'blob_detector': {'filtersize1': 100, 'filtersize2': 4, 'sigma': 1.25, 'fsize': 30, 'min_area': 20, 'max_area': 50, 'sparse': False}, 'roi_integration': {'overlap_threshold': 0.4, 'min_area': 20, 'max_area': 100, 'sparse': False}, 'lccd': {'frame_divider': 100}, 'dff': {'f0_frames': 100, 'f0_percentile': 8}}\n"
     ]
    },
    {
     "name": "stderr",
     "output_type": "stream",
     "text": [
      "/Users/keita/Code/optinist_test/optinist/wrappers/lccd_wrapper/lccd_detection.py:43: RuntimeWarning: All-NaN slice encountered\n",
      "  'rois': RoiData(np.nanmax(roi_list, axis=0), file_name='cell_roi'),\n"
     ]
    }
   ],
   "source": [
    "ret = lccd_detection.lccd_detect(sample_data, lccd_detection_params)"
   ]
  },
  {
   "cell_type": "code",
   "execution_count": 15,
   "id": "c956a41a",
   "metadata": {},
   "outputs": [
    {
     "data": {
      "text/plain": [
       "{'rois': <optinist.api.dataclass.image.RoiData at 0x7f9609f84070>,\n",
       " 'fluorescence': <optinist.api.dataclass.timeseries.FluoData at 0x7f960a05b940>,\n",
       " 'dff': <optinist.api.dataclass.timeseries.FluoData at 0x7f960a074820>}"
      ]
     },
     "execution_count": 15,
     "metadata": {},
     "output_type": "execute_result"
    }
   ],
   "source": [
    "ret"
   ]
  }
 ],
 "metadata": {
  "kernelspec": {
   "display_name": "Python 3 (ipykernel)",
   "language": "python",
   "name": "python3"
  },
  "language_info": {
   "codemirror_mode": {
    "name": "ipython",
    "version": 3
   },
   "file_extension": ".py",
   "mimetype": "text/x-python",
   "name": "python",
   "nbconvert_exporter": "python",
   "pygments_lexer": "ipython3",
   "version": "3.8.16"
  }
 },
 "nbformat": 4,
 "nbformat_minor": 5
}

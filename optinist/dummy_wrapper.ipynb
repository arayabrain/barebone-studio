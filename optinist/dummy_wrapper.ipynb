{
 "cells": [
  {
   "cell_type": "code",
   "execution_count": null,
   "id": "f6aae537",
   "metadata": {},
   "outputs": [],
   "source": [
    "from wrappers.data_wrapper import *\n",
    "from wrappers.dummy_wrapper import *"
   ]
  },
  {
   "cell_type": "code",
   "execution_count": null,
   "id": "af9b6c15",
   "metadata": {},
   "outputs": [],
   "source": [
    "np.random.rand((10000)).reshape(100, 100)"
   ]
  },
  {
   "cell_type": "code",
   "execution_count": null,
   "id": "a83ed1ee",
   "metadata": {},
   "outputs": [],
   "source": [
    "import plotly.express as px\n",
    "from skimage import io\n",
    "data = io.imread(\"https://github.com/scikit-image/skimage-tutorials/raw/main/images/cells.tif\")\n",
    "img = data[20:45:2]\n",
    "fig = px.imshow(img, facet_col=0, binary_string=True, facet_col_wrap=5)\n",
    "fig.show()\n"
   ]
  },
  {
   "cell_type": "code",
   "execution_count": null,
   "id": "aed3896d",
   "metadata": {},
   "outputs": [],
   "source": [
    "import plotly.express as px\n",
    "from skimage import io\n",
    "data = io.imread(\"/Users/shogoakiyama/Desktop/optinist/backend/files/Sue_2x_3000_40_-46.tif(0)/tiff/Sue_2x_3000_40_-46.tif\")\n",
    "img = data[0:1]\n",
    "fig = px.imshow(img, facet_col=0, binary_string=True, facet_col_wrap=1)\n",
    "fig.show()\n"
   ]
  },
  {
   "cell_type": "code",
   "execution_count": null,
   "id": "c860bb25",
   "metadata": {},
   "outputs": [],
   "source": [
    "data.convert(\"L\")"
   ]
  },
  {
   "cell_type": "markdown",
   "id": "e47c1c0a",
   "metadata": {},
   "source": [
    "### dummy wrapperを使う"
   ]
  },
  {
   "cell_type": "code",
   "execution_count": null,
   "id": "7e80d4c2",
   "metadata": {},
   "outputs": [],
   "source": [
    "dummy_image2image(1)"
   ]
  },
  {
   "cell_type": "code",
   "execution_count": null,
   "id": "4565d161",
   "metadata": {},
   "outputs": [],
   "source": [
    "dummy_image2image(ImageData(np.empty((10, 10))))"
   ]
  },
  {
   "cell_type": "code",
   "execution_count": null,
   "id": "60d6254e",
   "metadata": {},
   "outputs": [],
   "source": [
    "def example_func(image) -> {'name': str, 'year': int}:\n",
    "    return \"A\""
   ]
  },
  {
   "cell_type": "code",
   "execution_count": null,
   "id": "28f614d4",
   "metadata": {},
   "outputs": [],
   "source": [
    "example_func(\"a\")"
   ]
  },
  {
   "cell_type": "code",
   "execution_count": null,
   "id": "d743222a",
   "metadata": {},
   "outputs": [],
   "source": [
    "print(example_func.__annotations__['return'].keys())"
   ]
  },
  {
   "cell_type": "code",
   "execution_count": null,
   "id": "1bd5014d",
   "metadata": {},
   "outputs": [],
   "source": [
    "sig = inspect.signature(dummy_image2image)\n",
    "if sig.return_annotation is not inspect._empty:\n",
    "    return_names = list(sig.return_annotation.keys())\n",
    "    return_types = list(sig.return_annotation.values())\n",
    "    print(retun_names)\n",
    "    print(return_types)\n",
    "else:\n",
    "    print('empty')"
   ]
  },
  {
   "cell_type": "code",
   "execution_count": null,
   "id": "30bb2ba2",
   "metadata": {},
   "outputs": [],
   "source": [
    "sig.return_annotation"
   ]
  },
  {
   "cell_type": "code",
   "execution_count": null,
   "id": "6bd26b89",
   "metadata": {},
   "outputs": [],
   "source": [
    "import inspect\n",
    "sig = inspect.signature(dummy_image2image)\n",
    "arg_names = [x.name for x in sig.parameters.values()]\n",
    "arg_types = [x.annotation for x in sig.parameters.values()]"
   ]
  },
  {
   "cell_type": "code",
   "execution_count": null,
   "id": "57c3e68f",
   "metadata": {},
   "outputs": [],
   "source": [
    "from typing import TypedDict\n",
    "movie = TypedDict('Movie', {'name': str, 'year': int})"
   ]
  },
  {
   "cell_type": "code",
   "execution_count": null,
   "id": "93c54bf4",
   "metadata": {},
   "outputs": [],
   "source": [
    "print(movie.__dict__)\n",
    "print(movie.__annotations__.keys())"
   ]
  },
  {
   "cell_type": "markdown",
   "id": "32d7d385",
   "metadata": {},
   "source": [
    "### image → timeseries"
   ]
  },
  {
   "cell_type": "code",
   "execution_count": null,
   "id": "b7262a9d",
   "metadata": {},
   "outputs": [],
   "source": [
    "info1 = dummy_image2image(ImageData(1))\n",
    "# info2 = dummy_image2time(*info1.values())\n",
    "info3 = dummy_time2time(*info1.values())"
   ]
  },
  {
   "cell_type": "code",
   "execution_count": null,
   "id": "008e2ced",
   "metadata": {},
   "outputs": [],
   "source": [
    "print(info1)\n",
    "print(info2)\n",
    "print(info3)"
   ]
  },
  {
   "cell_type": "markdown",
   "id": "ad41fd9e",
   "metadata": {},
   "source": [
    "### image&image→timeseries"
   ]
  },
  {
   "cell_type": "code",
   "execution_count": null,
   "id": "893941dd",
   "metadata": {},
   "outputs": [],
   "source": [
    "info = dummy_image8image2image8time(ImageData(1), ImageData(1))\n",
    "# dummy_time8image2image8time(*info.values())"
   ]
  },
  {
   "cell_type": "code",
   "execution_count": null,
   "id": "f62c5047",
   "metadata": {},
   "outputs": [],
   "source": [
    "dummy_time2time(*info.values())"
   ]
  },
  {
   "cell_type": "markdown",
   "id": "866b6780",
   "metadata": {},
   "source": [
    "### args check"
   ]
  },
  {
   "cell_type": "code",
   "execution_count": null,
   "id": "d0ae170d",
   "metadata": {},
   "outputs": [],
   "source": [
    "import inspect\n",
    "import functools\n",
    "\n",
    "\n",
    "# def args_check(func):\n",
    "#     @functools.wraps(func)\n",
    "#     def args_type_check_wrapper(*args, **kwargs):\n",
    "#         sig = inspect.signature(func)\n",
    "#         args = list(args)\n",
    "#         arg_type_list = [type(x) for x in args]\n",
    "#         request_type_list = [x.annotation for x in sig.parameters.values()]\n",
    "\n",
    "#         # 引数が足らない場合はエラーさせる\n",
    "#         print(arg_type_list)\n",
    "#         print(request_type_list)\n",
    "#         for x in set(request_type_list):\n",
    "            \n",
    "#             if x is not inspect._empty) and arg_type_list.count(x) < request_type_list.count(x):\n",
    "#                 error_msg = f'You need \"{x}\"  argument more than \"{request_type_list.count(x) - arg_type_list.count(x)}\".'\n",
    "#                 raise AttributeError(error_msg)\n",
    "        \n",
    "#         # いらない型の引数を削除する\n",
    "#         for i, x in enumerate(arg_type_list):\n",
    "#             if x not in request_type_list:\n",
    "#                 args.remove(args[i])\n",
    "\n",
    "#         arg_type_list = [type(x) for x in args]\n",
    "#         request_type_list = [x.annotation for x in sig.parameters.values()]\n",
    "\n",
    "#         # 型の順番を揃える\n",
    "#         def check_order(arg_type_list, request_type_list):\n",
    "#             flag = False\n",
    "#             for i in range(len(request_type_list)-1):\n",
    "#                 if arg_type_list[i] != request_type_list[i]:\n",
    "#                     flag = True\n",
    "#                     break\n",
    "\n",
    "#             return flag\n",
    "\n",
    "#         while check_order(arg_type_list, request_type_list):\n",
    "#             for i in range(len(args)-1):\n",
    "#                 if check_order(arg_type_list, request_type_list):\n",
    "#                     args[i], args[i+1] = args[i+1], args[i]\n",
    "#                     arg_type_list[i], arg_type_list[i+1] = arg_type_list[i+1], arg_type_list[i]\n",
    "\n",
    "#             arg_type_list = [type(x) for x in args]\n",
    "#             request_type_list = [x.annotation for x in sig.parameters.values()]\n",
    "\n",
    "#         # 引数が多い場合は余分な引数を捨てる\n",
    "#         args = args[:len(sig.parameters)]\n",
    "#         arg_type_list = [type(x) for x in args]\n",
    "        \n",
    "#         if len(arg_type_list) == len(request_type_list) and request_type_list[-1] == dict and arg_type_list[-1] != request_type_list[-1]:\n",
    "#             args = args[:-1]\n",
    "        \n",
    "#         arg_type_list = [type(x) for x in args]\n",
    "#         request_type_list = [x.annotation for x in sig.parameters.values()]\n",
    "    \n",
    "#         for arg_key, arg_val in sig.bind(*args, **kwargs).arguments.items():\n",
    "#             # 渡した引数\n",
    "#             arg_type = type(arg_val)\n",
    "            \n",
    "#             # 関数で定義された引数\n",
    "#             annot = sig.parameters[arg_key].annotation\n",
    "#             request_type = annot if type(annot) is type else inspect._empty\n",
    "#             if request_type is not inspect._empty and arg_type is not request_type:\n",
    "#                 error_msg = f'args\"{arg_key}\" (type: {arg_type}) is invalid. （ type: {request_type} is require'\n",
    "#                 raise TypeError(error_msg)\n",
    "\n",
    "#         return func(*args, **kwargs)\n",
    "\n",
    "#     return args_type_check_wrapper\n",
    "\n",
    "\n",
    "@args_check\n",
    "def dummy_args(image1: ImageData, time: TimeSeriesData, image2: ImageData,  opts: dict = None):\n",
    "    info = {}\n",
    "    info['image'] = ImageData(np.empty((3, 64, 64)))\n",
    "    return info"
   ]
  },
  {
   "cell_type": "code",
   "execution_count": null,
   "id": "f57b835b",
   "metadata": {},
   "outputs": [],
   "source": [
    "info = {}\n",
    "\n",
    "info['image2'] = ImageData(1)\n",
    "info['image1'] = ImageData(1)\n",
    "info['time10'] = TimeSeriesData(1)\n",
    "info['image2'] = ImageData(1)\n",
    "\n",
    "info = dummy_args(*info.values())"
   ]
  },
  {
   "cell_type": "code",
   "execution_count": null,
   "id": "17944d75",
   "metadata": {},
   "outputs": [],
   "source": [
    "info = dummy_image2time(*info.values())\n",
    "info = dummy_image2time(*info.values())"
   ]
  },
  {
   "cell_type": "code",
   "execution_count": null,
   "id": "9077a726",
   "metadata": {},
   "outputs": [],
   "source": []
  },
  {
   "cell_type": "code",
   "execution_count": null,
   "id": "b0f086d1",
   "metadata": {},
   "outputs": [],
   "source": []
  }
 ],
 "metadata": {
  "kernelspec": {
   "display_name": "Python 3",
   "language": "python",
   "name": "python3"
  },
  "language_info": {
   "codemirror_mode": {
    "name": "ipython",
    "version": 3
   },
   "file_extension": ".py",
   "mimetype": "text/x-python",
   "name": "python",
   "nbconvert_exporter": "python",
   "pygments_lexer": "ipython3",
   "version": "3.9.5"
  }
 },
 "nbformat": 4,
 "nbformat_minor": 5
}

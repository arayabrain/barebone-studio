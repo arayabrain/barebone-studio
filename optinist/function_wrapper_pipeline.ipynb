{
 "cells": [
  {
   "cell_type": "code",
   "execution_count": null,
   "id": "35ddea59",
   "metadata": {},
   "outputs": [],
   "source": [
    "import os\n",
    "import sys\n",
    "import numpy as np\n",
    "import matplotlib.pyplot as plt\n",
    "import imageio\n",
    "from wrappers.caiman_wrapper import *\n",
    "from wrappers.dummy_wrapper import *\n",
    "from wrappers.data_wrapper import *"
   ]
  },
  {
   "cell_type": "markdown",
   "id": "7910f933",
   "metadata": {},
   "source": [
    "### dummy"
   ]
  },
  {
   "cell_type": "code",
   "execution_count": null,
   "id": "50e58068",
   "metadata": {},
   "outputs": [],
   "source": [
    "file_path = os.path.join(\n",
    "    '/Users', 'shogoakiyama', 'caiman_data', \n",
    "    'example_movies', 'Sue_2x_3000_40_-46.tif')"
   ]
  },
  {
   "cell_type": "code",
   "execution_count": null,
   "id": "778ea401",
   "metadata": {},
   "outputs": [],
   "source": [
    "image = ImageData(file_path, 'dummy')"
   ]
  },
  {
   "cell_type": "code",
   "execution_count": null,
   "id": "16ff6c66",
   "metadata": {},
   "outputs": [],
   "source": [
    "dummy_image2image(ImageData(file_path), opts={'a': 1})"
   ]
  },
  {
   "cell_type": "code",
   "execution_count": null,
   "id": "6c3f3e81",
   "metadata": {},
   "outputs": [],
   "source": [
    "def func1():\n",
    "    print(sys._getframe().f_code.co_name)\n",
    "func1()"
   ]
  },
  {
   "cell_type": "markdown",
   "id": "c4db3caf",
   "metadata": {},
   "source": [
    "### caiman"
   ]
  },
  {
   "cell_type": "code",
   "execution_count": null,
   "id": "ac332cc2",
   "metadata": {},
   "outputs": [],
   "source": [
    "info = {}\n",
    "file_path = os.path.join(\n",
    "    '/Users', 'shogoakiyama', 'caiman_data', \n",
    "    'example_movies', 'Sue_2x_3000_40_-46.tif')"
   ]
  },
  {
   "cell_type": "code",
   "execution_count": null,
   "id": "dd40b6a7",
   "metadata": {},
   "outputs": [],
   "source": [
    "info['caiman_mc'] = caiman_mc(file_path)\n",
    "info['caiman_cnmf'] = caiman_cnmf(info['caiman_mc']['images'])"
   ]
  },
  {
   "cell_type": "code",
   "execution_count": null,
   "id": "1ef39d7c",
   "metadata": {},
   "outputs": [],
   "source": [
    "info['caiman_mc']"
   ]
  },
  {
   "cell_type": "code",
   "execution_count": null,
   "id": "56b7a3e8",
   "metadata": {},
   "outputs": [],
   "source": [
    "plt.imshow(info['caiman_mc']['images'][0])"
   ]
  },
  {
   "cell_type": "code",
   "execution_count": null,
   "id": "eccee0c0",
   "metadata": {},
   "outputs": [],
   "source": [
    "plt.imshow(info['caiman_mc']['total_template_rig'])"
   ]
  },
  {
   "cell_type": "code",
   "execution_count": null,
   "id": "37b4c17e",
   "metadata": {},
   "outputs": [],
   "source": [
    "# plot\n",
    "plt.imshow(info['caiman_mc']['total_template_rig'], cmap = 'gray')"
   ]
  },
  {
   "cell_type": "code",
   "execution_count": null,
   "id": "39eeb884",
   "metadata": {},
   "outputs": [],
   "source": [
    "# shifts rig\n",
    "plt.plot(info['caiman_mc']['shifts_rig'])"
   ]
  },
  {
   "cell_type": "code",
   "execution_count": null,
   "id": "651a4d2a",
   "metadata": {},
   "outputs": [],
   "source": [
    "# calcium image\n",
    "plot_contours_nb(info['caiman_mc']['images'], info['caiman_cnmf']['cnm'])"
   ]
  },
  {
   "cell_type": "markdown",
   "id": "2af703c8",
   "metadata": {},
   "source": [
    "### suite2p"
   ]
  },
  {
   "cell_type": "code",
   "execution_count": null,
   "id": "65265af7",
   "metadata": {},
   "outputs": [],
   "source": [
    "from wrappers.suite2p_wrapper import run_s2p, roi\n",
    "info = {}\n",
    "\n",
    "file_path = os.path.join(\n",
    "    '/Users', 'shogoakiyama', 'caiman_data', \n",
    "    'example_movies', 'Sue_2x_3000_40_-46.tif')"
   ]
  },
  {
   "cell_type": "code",
   "execution_count": null,
   "id": "7d6c3eae",
   "metadata": {},
   "outputs": [],
   "source": [
    "info['run_s2p'] = run_s2p(file_path)\n",
    "info['roi'] = roi(info['run_s2p']['save_path'], info['run_s2p']['Lx'], info['run_s2p']['Ly'])"
   ]
  },
  {
   "cell_type": "code",
   "execution_count": null,
   "id": "4ae6c127",
   "metadata": {},
   "outputs": [],
   "source": [
    "plt.figure(figsize=(16, 4))\n",
    "\n",
    "plt.subplot(1, 4, 1)\n",
    "plt.imshow(info['run_s2p']['max_proj'], cmap='gray')\n",
    "plt.title(\"Registered Image, Max Projection\")\n",
    "\n",
    "plt.subplot(1, 4, 2)\n",
    "plt.imshow(np.nanmax(info['roi']['im'], axis=0), cmap='jet')\n",
    "plt.title(\"All ROIs Found\")\n",
    "\n",
    "plt.subplot(1, 4, 3)\n",
    "plt.imshow(np.nanmax(info['roi']['im'][~info['roi']['iscell']], axis=0, ), cmap='jet')\n",
    "plt.title(\"All Non-Cell ROIs\")\n",
    "\n",
    "plt.subplot(1, 4, 4)\n",
    "plt.imshow(np.nanmax(info['roi']['im'][info['roi']['iscell']], axis=0), cmap='jet')\n",
    "plt.title(\"All Cell ROIs\");"
   ]
  }
 ],
 "metadata": {
  "kernelspec": {
   "display_name": "Python 3",
   "language": "python",
   "name": "python3"
  },
  "language_info": {
   "codemirror_mode": {
    "name": "ipython",
    "version": 3
   },
   "file_extension": ".py",
   "mimetype": "text/x-python",
   "name": "python",
   "nbconvert_exporter": "python",
   "pygments_lexer": "ipython3",
   "version": "3.9.5"
  }
 },
 "nbformat": 4,
 "nbformat_minor": 5
}

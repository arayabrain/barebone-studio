{
 "cells": [
  {
   "cell_type": "code",
   "execution_count": null,
   "id": "35ddea59",
   "metadata": {},
   "outputs": [],
   "source": [
    "import os\n",
    "import sys\n",
    "import numpy as np\n",
    "import matplotlib.pyplot as plt\n",
    "import imageio\n",
    "from wrappers.caiman_wrapper import *\n",
    "from wrappers.dummy_wrapper import *\n",
    "from wrappers.data_wrapper import *"
   ]
  },
  {
   "cell_type": "markdown",
   "id": "36b871ae",
   "metadata": {},
   "source": [
    "### dummy"
   ]
  },
  {
   "cell_type": "code",
   "execution_count": null,
   "id": "2a6c1f91",
   "metadata": {},
   "outputs": [],
   "source": [
    "file_path = os.path.join(\n",
    "    '/Users', 'shogoakiyama', 'caiman_data', \n",
    "    'example_movies', 'Sue_2x_3000_40_-46.tif')"
   ]
  },
  {
   "cell_type": "code",
   "execution_count": null,
   "id": "08387908",
   "metadata": {},
   "outputs": [],
   "source": [
    "image = ImageData(file_path, 'dummy')"
   ]
  },
  {
   "cell_type": "code",
   "execution_count": null,
   "id": "94c13700",
   "metadata": {},
   "outputs": [],
   "source": [
    "dummy_image2image(ImageData(file_path, ''), opts={'a': 1})"
   ]
  },
  {
   "cell_type": "markdown",
   "id": "c4db3caf",
   "metadata": {},
   "source": [
    "### caiman"
   ]
  },
  {
   "cell_type": "code",
   "execution_count": null,
   "id": "ac332cc2",
   "metadata": {},
   "outputs": [],
   "source": [
    "info = {}\n",
    "file_path = os.path.join(\n",
    "    '/Users', 'shogoakiyama', 'caiman_data', \n",
    "    'example_movies', 'Sue_2x_3000_40_-46.tif')\n",
    "info['initial'] = {'file': ImageData(file_path, '')}"
   ]
  },
  {
   "cell_type": "code",
   "execution_count": null,
   "id": "dd40b6a7",
   "metadata": {},
   "outputs": [],
   "source": [
    "info['caiman_mc'] = caiman_mc(*info['initial'].values())\n",
    "info['cnmf'] = caiman_cnmf(*info['caiman_mc'].values())"
   ]
  },
  {
   "cell_type": "code",
   "execution_count": null,
   "id": "56b7a3e8",
   "metadata": {},
   "outputs": [],
   "source": [
    "plt.imshow(info['caiman_mc']['images'].data[0])"
   ]
  },
  {
   "cell_type": "markdown",
   "id": "2af703c8",
   "metadata": {},
   "source": [
    "### suite2p"
   ]
  },
  {
   "cell_type": "code",
   "execution_count": null,
   "id": "7af37c10",
   "metadata": {},
   "outputs": [],
   "source": [
    "import os\n",
    "from suite2p import default_ops\n",
    "from wrappers.data_wrapper import *\n",
    "from wrappers.suite2p_wrapper import *\n",
    "from wrappers.args_check import args_check"
   ]
  },
  {
   "cell_type": "code",
   "execution_count": null,
   "id": "517e1b4c",
   "metadata": {},
   "outputs": [],
   "source": [
    "\n",
    "\n",
    "@args_check\n",
    "def suite2p_registration(image: ImageData, opts: dict=None):\n",
    "    import numpy as np\n",
    "    from suite2p import registration\n",
    "    from suite2p import default_ops\n",
    "\n",
    "    ######### REGISTRATION #########\n",
    "    refImg = image.data\n",
    "    if len(refImg.shape) == 3:\n",
    "        refImg = refImg[0]\n",
    "\n",
    "    if opts is None:\n",
    "        ops = {**default_ops()}\n",
    "    else:\n",
    "        ops = opts\n",
    "\n",
    "    ops = registration.register_binary(ops, refImg=refImg) # register binary\n",
    "\n",
    "    # compute metrics for registration\n",
    "    if ops.get('do_regmetrics', True) and ops['nframes']>=1500:\n",
    "        ops = registration.get_pc_metrics(ops)\n",
    "\n",
    "    ops['images'] = ops['refImg'].astype(np.uint8)\n",
    "    ops['meanImgE'] = ops['meanImgE']\n",
    "\n",
    "    return ops"
   ]
  },
  {
   "cell_type": "code",
   "execution_count": null,
   "id": "65265af7",
   "metadata": {},
   "outputs": [],
   "source": [
    "info = {}\n",
    "\n",
    "file_path = os.path.join(\n",
    "    '/Users', 'shogoakiyama', 'caiman_data', \n",
    "    'example_movies', 'Sue_2x_3000_40_-46.tif')\n",
    "info['initial'] = {'file': ImageData(file_path, '')}"
   ]
  },
  {
   "cell_type": "code",
   "execution_count": null,
   "id": "5e98ec90",
   "metadata": {},
   "outputs": [],
   "source": [
    "info['file_convert'] = suite2p_file_convert(*info['initial'].values())\n",
    "info['registration'] = suite2p_registration(*info['file_convert'].values())"
   ]
  },
  {
   "cell_type": "code",
   "execution_count": null,
   "id": "7d6c3eae",
   "metadata": {},
   "outputs": [],
   "source": [
    "# info['run_s2p'] = run_s2p(file_path)\n",
    "# info['roi'] = roi(info['run_s2p']['save_path'], info['run_s2p']['Lx'], info['run_s2p']['Ly'])"
   ]
  },
  {
   "cell_type": "code",
   "execution_count": null,
   "id": "4ae6c127",
   "metadata": {},
   "outputs": [],
   "source": [
    "# plt.figure(figsize=(16, 4))\n",
    "\n",
    "# plt.subplot(1, 4, 1)\n",
    "# plt.imshow(info['run_s2p']['max_proj'], cmap='gray')\n",
    "# plt.title(\"Registered Image, Max Projection\")\n",
    "\n",
    "# plt.subplot(1, 4, 2)\n",
    "# plt.imshow(np.nanmax(info['roi']['im'], axis=0), cmap='jet')\n",
    "# plt.title(\"All ROIs Found\")\n",
    "\n",
    "# plt.subplot(1, 4, 3)\n",
    "# plt.imshow(np.nanmax(info['roi']['im'][~info['roi']['iscell']], axis=0, ), cmap='jet')\n",
    "# plt.title(\"All Non-Cell ROIs\")\n",
    "\n",
    "# plt.subplot(1, 4, 4)\n",
    "# plt.imshow(np.nanmax(info['roi']['im'][info['roi']['iscell']], axis=0), cmap='jet')\n",
    "# plt.title(\"All Cell ROIs\");"
   ]
  },
  {
   "cell_type": "code",
   "execution_count": null,
   "id": "b28f9388",
   "metadata": {},
   "outputs": [],
   "source": []
  }
 ],
 "metadata": {
  "kernelspec": {
   "display_name": "Python 3",
   "language": "python",
   "name": "python3"
  },
  "language_info": {
   "codemirror_mode": {
    "name": "ipython",
    "version": 3
   },
   "file_extension": ".py",
   "mimetype": "text/x-python",
   "name": "python",
   "nbconvert_exporter": "python",
   "pygments_lexer": "ipython3",
   "version": "3.9.5"
  }
 },
 "nbformat": 4,
 "nbformat_minor": 5
}

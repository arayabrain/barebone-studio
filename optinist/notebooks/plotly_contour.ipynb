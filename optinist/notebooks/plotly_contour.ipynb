{
 "cells": [
  {
   "cell_type": "markdown",
   "metadata": {},
   "source": [
    "# suite2p"
   ]
  },
  {
   "cell_type": "code",
   "execution_count": null,
   "metadata": {},
   "outputs": [],
   "source": [
    "import os\n",
    "import numpy as np\n",
    "import matplotlib.pyplot as plt\n",
    "from tempfile import TemporaryDirectory\n",
    "from pathlib import Path\n",
    "import suite2p\n",
    "from suite2p import ROI\n",
    "import plotly.express as px\n",
    "import plotly.graph_objects as go\n",
    "\n",
    "ops = suite2p.default_ops()\n",
    "print(ops)\n",
    "\n",
    "db = {\n",
    "    'data_path': [join_file_path('/Users', 'shogoakiyama', 'Desktop')],\n",
    "    'save_path0': TemporaryDirectory().name,\n",
    "    'tiff_list': ['Sue_2x_3000_40_-46.tif'],\n",
    "}"
   ]
  },
  {
   "cell_type": "markdown",
   "metadata": {},
   "source": [
    "### run "
   ]
  },
  {
   "cell_type": "code",
   "execution_count": null,
   "metadata": {},
   "outputs": [],
   "source": [
    "output_ops = suite2p.run_s2p(ops=ops, db=db)"
   ]
  },
  {
   "cell_type": "code",
   "execution_count": null,
   "metadata": {},
   "outputs": [],
   "source": [
    "output_op = output_ops\n",
    "print('param:\\n', set(output_op.keys()).difference(ops.keys()))\n",
    "print('\\noutput path: \\n', list(Path(output_op['save_path']).iterdir()))"
   ]
  },
  {
   "cell_type": "markdown",
   "metadata": {},
   "source": [
    "### ROI"
   ]
  },
  {
   "cell_type": "code",
   "execution_count": null,
   "metadata": {},
   "outputs": [],
   "source": [
    "\n",
    "\n",
    "stats_file = Path(output_op['save_path']).joinpath('stat.npy')\n",
    "iscell = np.load(Path(output_op['save_path']).joinpath('iscell.npy'), allow_pickle=True)[:, 0].astype(bool)\n",
    "stats = np.load(stats_file, allow_pickle=True)\n",
    "stats.shape, iscell.shape"
   ]
  },
  {
   "cell_type": "code",
   "execution_count": null,
   "metadata": {},
   "outputs": [],
   "source": [
    "label_id = True\n",
    "arrays = []\n",
    "for i, s in enumerate(stats):\n",
    "    array = ROI(\n",
    "        ypix=s['ypix'],\n",
    "        xpix=s['xpix'],\n",
    "        lam=s['lam'],\n",
    "        med=s['med'],\n",
    "        do_crop=False\n",
    "    ).to_array(Ly=output_op['Ly'], Lx=output_op['Lx'])\n",
    "\n",
    "    if label_id:\n",
    "        array *= i + 1\n",
    "\n",
    "    arrays.append(array)\n",
    "\n",
    "im = np.stack(arrays)\n",
    "import copy\n",
    "nan_im = copy.deepcopy(im)\n",
    "nan_im[im == 0] = np.nan"
   ]
  },
  {
   "cell_type": "markdown",
   "metadata": {},
   "source": [
    "### matplot"
   ]
  },
  {
   "cell_type": "code",
   "execution_count": null,
   "metadata": {},
   "outputs": [],
   "source": [
    "plt.imshow(output_op['meanImg'], cmap='gray')\n",
    "plt.title(\"Registered Image, Max Projection\")\n",
    "\n",
    "plt.imshow(np.nanmax(nan_im[iscell], axis=0), cmap='jet')\n",
    "plt.title(\"All Cell ROIs\");"
   ]
  },
  {
   "cell_type": "markdown",
   "metadata": {},
   "source": [
    "### plotly"
   ]
  },
  {
   "cell_type": "code",
   "execution_count": null,
   "metadata": {},
   "outputs": [],
   "source": [
    "img = output_op['meanImg']\n",
    "# fig = px.imshow(img, color_continuous_scale='gray')\n",
    "fig.add_trace(go.Contour(\n",
    "    z=img,\n",
    "    showscale=True,\n",
    "    contours=dict(start=0, end=30, size=30,coloring='lines'),\n",
    "    line_width=1))\n",
    "fig.show()"
   ]
  },
  {
   "cell_type": "code",
   "execution_count": null,
   "metadata": {},
   "outputs": [],
   "source": [
    "fig = px.imshow(np.nanmax(nan_im[iscell], axis=0))\n",
    "fig.show()"
   ]
  },
  {
   "cell_type": "code",
   "execution_count": null,
   "metadata": {},
   "outputs": [],
   "source": []
  },
  {
   "cell_type": "markdown",
   "metadata": {},
   "source": [
    "# caiman"
   ]
  },
  {
   "cell_type": "code",
   "execution_count": null,
   "metadata": {},
   "outputs": [],
   "source": []
  }
 ],
 "metadata": {
  "kernelspec": {
   "display_name": "Python 3",
   "language": "python",
   "name": "python3"
  },
  "language_info": {
   "codemirror_mode": {
    "name": "ipython",
    "version": 3
   },
   "file_extension": ".py",
   "mimetype": "text/x-python",
   "name": "python",
   "nbconvert_exporter": "python",
   "pygments_lexer": "ipython3",
   "version": "3.8.5"
  }
 },
 "nbformat": 4,
 "nbformat_minor": 4
}

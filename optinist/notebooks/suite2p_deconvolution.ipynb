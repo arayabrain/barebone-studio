{
 "cells": [
  {
   "cell_type": "code",
   "execution_count": null,
   "id": "d1a010d2",
   "metadata": {},
   "outputs": [],
   "source": [
    "import os\n",
    "import numpy as np\n",
    "import matplotlib.pyplot as plt\n",
    "from suite2p.extraction import dcnv"
   ]
  },
  {
   "cell_type": "code",
   "execution_count": null,
   "id": "11c63204",
   "metadata": {},
   "outputs": [],
   "source": [
    "# compute deconvolution\n",
    "\n",
    "tau = 1.0 # timescale of indicator\n",
    "fs = 30.0 # sampling rate in Hz\n",
    "neucoeff = 0.7 # neuropil coefficient\n",
    "# for computing and subtracting baseline\n",
    "baseline = 'maximin' # take the running max of the running min after smoothing with␣\n",
    "\n",
    "# gaussian\n",
    "sig_baseline = 10.0 # in bins, standard deviation of gaussian with which to smooth\n",
    "win_baseline = 60.0 # in seconds, window in which to compute max/min filters\n",
    "prctile_baseline = 8\n",
    "batch_size = 200\n",
    "ops = {'tau': tau, 'fs': fs, 'neucoeff': neucoeff, 'baseline': baseline, 'sig_baseline': sig_baseline, \n",
    "       'win_baseline': win_baseline, 'prctile_baseline': prctile_baseline, 'batch_size': batch_size}\n",
    "\n",
    "# load traces and subtract neuropil\n",
    "F = np.load(os.path.join('./files', 'suite2p', 'plane0', 'F.npy'))\n",
    "Fneu = np.load(os.path.join('./files', 'suite2p', 'plane0', 'Fneu.npy'))#np.load('Fneu.npy')\n",
    "Fc = F - ops['neucoeff'] * Fneu\n",
    "\n",
    "# baseline operation\n",
    "Fc = dcnv.preprocess(\n",
    "    F=Fc,\n",
    "    baseline=ops['baseline'],\n",
    "    win_baseline=ops['win_baseline'],\n",
    "    sig_baseline=ops['sig_baseline'],\n",
    "    fs=ops['fs'],\n",
    "    prctile_baseline=ops['prctile_baseline']\n",
    ")\n",
    "\n",
    "# get spikes\n",
    "spks = dcnv.oasis(F=Fc, batch_size=ops['batch_size'], tau=ops['tau'], fs=ops['fs'])"
   ]
  },
  {
   "cell_type": "code",
   "execution_count": null,
   "id": "9657a688",
   "metadata": {},
   "outputs": [],
   "source": [
    "plt.plot(spks.flatten())"
   ]
  },
  {
   "cell_type": "code",
   "execution_count": null,
   "id": "6f8f0f86",
   "metadata": {},
   "outputs": [],
   "source": [
    "plt.figure(figsize=(16, 4))\n",
    "plt.imshow((spks*255).astype(np.uint8))"
   ]
  },
  {
   "cell_type": "code",
   "execution_count": null,
   "id": "4722aa44",
   "metadata": {},
   "outputs": [],
   "source": []
  }
 ],
 "metadata": {
  "kernelspec": {
   "display_name": "Python 3",
   "language": "python",
   "name": "python3"
  },
  "language_info": {
   "codemirror_mode": {
    "name": "ipython",
    "version": 3
   },
   "file_extension": ".py",
   "mimetype": "text/x-python",
   "name": "python",
   "nbconvert_exporter": "python",
   "pygments_lexer": "ipython3",
   "version": "3.8.5"
  }
 },
 "nbformat": 4,
 "nbformat_minor": 5
}

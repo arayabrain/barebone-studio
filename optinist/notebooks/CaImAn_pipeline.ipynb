{
 "cells": [
  {
   "cell_type": "code",
   "execution_count": null,
   "id": "0829a307",
   "metadata": {},
   "outputs": [],
   "source": [
    "import os\n",
    "import caiman as cm\n",
    "from caiman.utils.utils import download_demo\n",
    "from caiman.source_extraction.cnmf import params as params"
   ]
  },
  {
   "cell_type": "code",
   "execution_count": null,
   "id": "44f8e37e",
   "metadata": {},
   "outputs": [],
   "source": [
    "import caiman as cm\n",
    "#%% start a cluster for parallel processing (if a cluster already exists it will be closed and a new session will be opened)\n",
    "if 'dview' in locals():\n",
    "    cm.stop_server(dview=dview)\n",
    "c, dview, n_processes = cm.cluster.setup_cluster(\n",
    "    backend='local', n_processes=None, single_thread=False)"
   ]
  },
  {
   "cell_type": "markdown",
   "id": "3004e581",
   "metadata": {},
   "source": [
    "### video load"
   ]
  },
  {
   "cell_type": "code",
   "execution_count": null,
   "id": "1f5a73a2",
   "metadata": {},
   "outputs": [],
   "source": [
    "# filepath = os.path.join('../data', 'Sue_2x_3000_40_-46.tif')\n",
    "# assert os.path.exists(filepath)\n",
    "filepath = 'Sue_2x_3000_40_-46.tif'\n",
    "fnames = [download_demo(filepath)]\n",
    "fnames"
   ]
  },
  {
   "cell_type": "code",
   "execution_count": null,
   "id": "341dd87f",
   "metadata": {},
   "outputs": [],
   "source": [
    "display_movie = False\n",
    "if display_movie:\n",
    "    m_orig = cm.load_movie_chain(fnames)\n",
    "    ds_ratio = 0.2\n",
    "    m_orig.resize(1, 1, ds_ratio).play(\n",
    "        q_max=99.5, fr=30, magnification=2)"
   ]
  },
  {
   "cell_type": "markdown",
   "id": "506cb208",
   "metadata": {},
   "source": [
    "### setup parameter"
   ]
  },
  {
   "cell_type": "code",
   "execution_count": null,
   "id": "776a6033",
   "metadata": {},
   "outputs": [],
   "source": [
    "# dataset dependent parameters\n",
    "fr = 30                             # imaging rate in frames per second\n",
    "decay_time = 0.4                    # length of a typical transient in seconds\n",
    "\n",
    "# motion correction parameters\n",
    "strides = (48, 48)          # start a new patch for pw-rigid motion correction every x pixels\n",
    "overlaps = (24, 24)         # overlap between pathes (size of patch strides+overlaps)\n",
    "max_shifts = (6,6)          # maximum allowed rigid shifts (in pixels)\n",
    "max_deviation_rigid = 3     # maximum shifts deviation allowed for patch with respect to rigid shifts\n",
    "pw_rigid = True             # flag for performing non-rigid motion correction\n",
    "\n",
    "# parameters for source extraction and deconvolution\n",
    "p = 1                       # order of the autoregressive system\n",
    "gnb = 2                     # number of global background components\n",
    "merge_thr = 0.85            # merging threshold, max correlation allowed\n",
    "rf = 15                     # half-size of the patches in pixels. e.g., if rf=25, patches are 50x50\n",
    "stride_cnmf = 6             # amount of overlap between the patches in pixels\n",
    "K = 4                       # number of components per patch\n",
    "gSig = [4, 4]               # expected half size of neurons in pixels\n",
    "method_init = 'greedy_roi'  # initialization method (if analyzing dendritic data using 'sparse_nmf')\n",
    "ssub = 1                    # spatial subsampling during initialization\n",
    "tsub = 1                    # temporal subsampling during intialization\n",
    "\n",
    "# parameters for component evaluation\n",
    "min_SNR = 2.0               # signal to noise ratio for accepting a component\n",
    "rval_thr = 0.85              # space correlation threshold for accepting a component\n",
    "cnn_thr = 0.99              # threshold for CNN based classifier\n",
    "cnn_lowest = 0.1 # neurons with cnn probability lower than this value are rejected"
   ]
  },
  {
   "cell_type": "code",
   "execution_count": null,
   "id": "6f90f29d",
   "metadata": {},
   "outputs": [],
   "source": [
    "opts_dict = {'fnames': fnames,\n",
    "            'fr': fr,\n",
    "            'decay_time': decay_time,\n",
    "            'strides': strides,\n",
    "            'overlaps': overlaps,\n",
    "            'max_shifts': max_shifts,\n",
    "            'max_deviation_rigid': max_deviation_rigid,\n",
    "            'pw_rigid': pw_rigid,\n",
    "            'p': p,\n",
    "            'nb': gnb,\n",
    "            'rf': rf,\n",
    "            'K': K, \n",
    "            'stride': stride_cnmf,\n",
    "            'method_init': method_init,\n",
    "            'rolling_sum': True,\n",
    "            'only_init': True,\n",
    "            'ssub': ssub,\n",
    "            'tsub': tsub,\n",
    "            'merge_thr': merge_thr, \n",
    "            'min_SNR': min_SNR,\n",
    "            'rval_thr': rval_thr,\n",
    "            'use_cnn': True,\n",
    "            'min_cnn_thr': cnn_thr,\n",
    "            'cnn_lowest': cnn_lowest}\n",
    "\n",
    "from caiman.source_extraction.cnmf import params as params\n",
    "opts = params.CNMFParams(params_dict=opts_dict)\n",
    "opts"
   ]
  },
  {
   "cell_type": "code",
   "execution_count": null,
   "id": "30e84cc6",
   "metadata": {},
   "outputs": [],
   "source": [
    "'dview' in locals()"
   ]
  },
  {
   "cell_type": "markdown",
   "id": "977b5f0c",
   "metadata": {},
   "source": [
    "### setup cluster"
   ]
  },
  {
   "cell_type": "code",
   "execution_count": null,
   "id": "a927966c",
   "metadata": {},
   "outputs": [],
   "source": [
    "#%% start a cluster for parallel processing (if a cluster already exists it will be closed and a new session will be opened)\n",
    "if 'dview' in locals():\n",
    "    cm.stop_server(dview=dview)\n",
    "c, dview, n_processes = cm.cluster.setup_cluster(\n",
    "    backend='local', n_processes=None, single_thread=False)"
   ]
  },
  {
   "cell_type": "markdown",
   "id": "3e8998ff",
   "metadata": {},
   "source": [
    "### motion correct"
   ]
  },
  {
   "cell_type": "code",
   "execution_count": null,
   "id": "7341bf73",
   "metadata": {},
   "outputs": [],
   "source": [
    "from caiman.motion_correction import MotionCorrect\n",
    "# first we create a motion correction object with the parameters specified\n",
    "mc = MotionCorrect(fnames, dview=dview, **opts.get_group('motion'))"
   ]
  },
  {
   "cell_type": "code",
   "execution_count": null,
   "id": "3062d809",
   "metadata": {},
   "outputs": [],
   "source": [
    "dview"
   ]
  },
  {
   "cell_type": "code",
   "execution_count": null,
   "id": "5bd0b43e",
   "metadata": {},
   "outputs": [],
   "source": [
    "%%capture\n",
    "#%% Run piecewise-rigid motion correction using NoRMCorre\n",
    "mc.motion_correct(save_movie=True)\n",
    "m_els = cm.load(mc.fname_tot_els)\n",
    "border_to_0 = 0 if mc.border_nan is 'copy' else mc.border_to_0 \n",
    "    # maximum shift to be used for trimming against NaNs"
   ]
  },
  {
   "cell_type": "code",
   "execution_count": null,
   "id": "5fddd671",
   "metadata": {},
   "outputs": [],
   "source": [
    "#%% compare with original movie\n",
    "display_movie = True\n",
    "if display_movie:\n",
    "    m_orig = cm.load_movie_chain(fnames)\n",
    "    ds_ratio = 0.2\n",
    "    cm.concatenate([\n",
    "        m_orig.resize(1, 1, ds_ratio) - mc.min_mov*mc.nonneg_movie, \n",
    "        m_els.resize(1, 1, ds_ratio)\n",
    "    ], axis=2\n",
    "    ).play(fr=60, gain=15, magnification=2, offset=0)  # press q to exit"
   ]
  },
  {
   "cell_type": "code",
   "execution_count": null,
   "id": "ddc348d4",
   "metadata": {},
   "outputs": [],
   "source": []
  }
 ],
 "metadata": {
  "kernelspec": {
   "display_name": "Python 3",
   "language": "python",
   "name": "python3"
  },
  "language_info": {
   "codemirror_mode": {
    "name": "ipython",
    "version": 3
   },
   "file_extension": ".py",
   "mimetype": "text/x-python",
   "name": "python",
   "nbconvert_exporter": "python",
   "pygments_lexer": "ipython3",
   "version": "3.9.5"
  }
 },
 "nbformat": 4,
 "nbformat_minor": 5
}

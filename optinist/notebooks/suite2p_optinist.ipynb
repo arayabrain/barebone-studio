{
 "cells": [
  {
   "cell_type": "code",
   "execution_count": null,
   "id": "557e5628",
   "metadata": {},
   "outputs": [],
   "source": [
    "import sys\n",
    "sys.path.append('..')\n",
    "print(sys.path)\n",
    "import yaml\n",
    "import matplotlib.pyplot as plt\n",
    "from wrappers.data_wrapper import *\n",
    "from wrappers.suite2p_wrapper import *\n",
    "from wrappers.args_check import args_check"
   ]
  },
  {
   "cell_type": "markdown",
   "id": "890ddc4c",
   "metadata": {},
   "source": [
    "### file convert"
   ]
  },
  {
   "cell_type": "code",
   "execution_count": null,
   "id": "171c2f80",
   "metadata": {},
   "outputs": [],
   "source": [
    "image = ImageData('../../backend/files/Sue_2x_3000_40_-46.tif')\n",
    "with open('../config/suite2p_file_convert.yaml') as f:\n",
    "    params = yaml.safe_load(f)\n",
    "file_info = suite2p_file_convert(image, params)"
   ]
  },
  {
   "cell_type": "code",
   "execution_count": null,
   "id": "b5b20f67",
   "metadata": {},
   "outputs": [],
   "source": [
    "file_info['ops'].data['meanImg'].shape"
   ]
  },
  {
   "cell_type": "code",
   "execution_count": null,
   "id": "f31fa551",
   "metadata": {},
   "outputs": [],
   "source": [
    "tmp = np.load(file_info['ops'].data['ops_path'], allow_pickle=True)\n",
    "tmp"
   ]
  },
  {
   "cell_type": "markdown",
   "id": "86d638c3",
   "metadata": {},
   "source": [
    "### registration "
   ]
  },
  {
   "cell_type": "code",
   "execution_count": null,
   "id": "56b923e1",
   "metadata": {},
   "outputs": [],
   "source": [
    "@args_check\n",
    "def suite2p_registration(\n",
    "        ops: Suite2pData=None, params: dict=None\n",
    "    ) -> {'ops': Suite2pData}:\n",
    "    # refImg = image.data\n",
    "    ops = ops.data\n",
    "    refImg = ops['meanImg']\n",
    "\n",
    "    import numpy as np\n",
    "    from suite2p import registration\n",
    "    from suite2p import default_ops\n",
    "\n",
    "    ######### REGISTRATION #########\n",
    "#     if len(refImg.shape) == 3:\n",
    "#         refImg = refImg[0]\n",
    "\n",
    "    # if ops is None:\n",
    "    #     ops = {**default_ops()}\n",
    "\n",
    "    ops = {**ops, **params}\n",
    "\n",
    "    ops = registration.register_binary(ops, refImg=refImg) # register binary\n",
    "\n",
    "    # compute metrics for registration\n",
    "    if ops.get('do_regmetrics', True) and ops['nframes']>=1500:\n",
    "        ops = registration.get_pc_metrics(ops)\n",
    "\n",
    "    info = {}\n",
    "    info['images'] = ImageData(ops['refImg'].astype(np.uint8), func_name='suite2p_registration', file_name='refImg')\n",
    "    info['meanImgE'] = ImageData(ops['meanImgE'].astype(np.uint8), func_name='suite2p_registration', file_name='meanImgE')\n",
    "    info['ops'] = Suite2pData(ops, func_name='suite2p_registration', file_name='ops')\n",
    "\n",
    "    return info"
   ]
  },
  {
   "cell_type": "code",
   "execution_count": null,
   "id": "9b0900a3",
   "metadata": {},
   "outputs": [],
   "source": [
    "with open('../config/suite2p_registration.yaml') as f:\n",
    "    params = yaml.safe_load(f)\n",
    "regist_info = suite2p_registration(*file_info.values(), params=params)"
   ]
  },
  {
   "cell_type": "code",
   "execution_count": null,
   "id": "99850615",
   "metadata": {},
   "outputs": [],
   "source": [
    "regist_info['ops'].data['reg_file']"
   ]
  },
  {
   "cell_type": "code",
   "execution_count": null,
   "id": "11bf5457",
   "metadata": {},
   "outputs": [],
   "source": [
    "from suite2p import io\n",
    "reg_file = io.BinaryFile(\n",
    "    read_filename='./files/suite2p/plane0/data.bin', \n",
    "    Ly=170, \n",
    "    Lx=170\n",
    ").data\n",
    "                                 "
   ]
  },
  {
   "cell_type": "code",
   "execution_count": null,
   "id": "e2aa562d",
   "metadata": {},
   "outputs": [],
   "source": [
    "plt.imshow(reg_file[0])"
   ]
  },
  {
   "cell_type": "code",
   "execution_count": null,
   "id": "1c0eae83",
   "metadata": {},
   "outputs": [],
   "source": [
    "regist_info"
   ]
  },
  {
   "cell_type": "code",
   "execution_count": null,
   "id": "834862a1",
   "metadata": {},
   "outputs": [],
   "source": [
    "regist_info['ops'].data['regDX'].shape"
   ]
  },
  {
   "cell_type": "code",
   "execution_count": null,
   "id": "03731cb9",
   "metadata": {},
   "outputs": [],
   "source": [
    "plt.plot(regist_info['ops'].data['corrXY1'])"
   ]
  },
  {
   "cell_type": "markdown",
   "id": "80d3cc20",
   "metadata": {},
   "source": [
    "### ROI"
   ]
  },
  {
   "cell_type": "code",
   "execution_count": null,
   "id": "45fcf6a5",
   "metadata": {},
   "outputs": [],
   "source": [
    "roi_info = suite2p_roi(*file_info.values(), params)"
   ]
  },
  {
   "cell_type": "markdown",
   "id": "d82eebb1",
   "metadata": {},
   "source": [
    "### spike deconv"
   ]
  },
  {
   "cell_type": "code",
   "execution_count": null,
   "id": "730125e5",
   "metadata": {},
   "outputs": [],
   "source": [
    "with open('../config/suite2p_spike_deconv.yaml') as f:\n",
    "    params = yaml.safe_load(f)\n",
    "spike_info = suite2p_spike_deconv(*roi_info.values(), params)"
   ]
  },
  {
   "cell_type": "code",
   "execution_count": null,
   "id": "14093d46",
   "metadata": {},
   "outputs": [],
   "source": [
    "roi_info['ops'].data"
   ]
  },
  {
   "cell_type": "code",
   "execution_count": null,
   "id": "d5e40540",
   "metadata": {},
   "outputs": [],
   "source": []
  },
  {
   "cell_type": "code",
   "execution_count": null,
   "id": "037a46ee",
   "metadata": {},
   "outputs": [],
   "source": [
    "from suite2p.extraction import dcnv\n",
    "tau = 1.0 # timescale of indicator\n",
    "fs = 30.0 # sampling rate in Hz\n",
    "neucoeff = 0.7 # neuropil coefficient\n",
    "# for computing and subtracting baseline\n",
    "baseline = 'maximin' # take the running max of the running min after smoothing with␣\n",
    "\n",
    "# gaussian\n",
    "sig_baseline = 10.0 # in bins, standard deviation of gaussian with which to smooth\n",
    "win_baseline = 60.0 # in seconds, window in which to compute max/min filters\n",
    "prctile_baseline = 8\n",
    "batch_size = 200\n",
    "ops = {'tau': tau, 'fs': fs, 'neucoeff': neucoeff, 'baseline': baseline, 'sig_baseline': sig_baseline, \n",
    "       'win_baseline': win_baseline, 'prctile_baseline': prctile_baseline, 'batch_size': batch_size}\n",
    "\n",
    "\n",
    "neucoeff = 0.7\n",
    "Fc = roi_info['F'].data - ops['neucoeff'] * roi_info['ops'].data['Fneu']\n",
    "\n",
    "# baseline operation\n",
    "Fc = dcnv.preprocess(\n",
    "    F=Fc,\n",
    "    baseline=ops['baseline'],\n",
    "    win_baseline=ops['win_baseline'],\n",
    "    sig_baseline=ops['sig_baseline'],\n",
    "    fs=ops['fs'],\n",
    "    prctile_baseline=ops['prctile_baseline']\n",
    ")\n",
    "\n",
    "# get spikes\n",
    "spks = dcnv.oasis(F=Fc, batch_size=ops['batch_size'], tau=ops['tau'], fs=ops['fs'])"
   ]
  },
  {
   "cell_type": "code",
   "execution_count": null,
   "id": "4bcc4779",
   "metadata": {},
   "outputs": [],
   "source": [
    "print(roi_info['F'].data.shape)\n",
    "print(roi_info['ops'].data['Fneu'].shape)"
   ]
  },
  {
   "cell_type": "code",
   "execution_count": null,
   "id": "0841caaa",
   "metadata": {},
   "outputs": [],
   "source": [
    "spks.shape"
   ]
  },
  {
   "cell_type": "code",
   "execution_count": null,
   "id": "448c2fc2",
   "metadata": {},
   "outputs": [],
   "source": [
    "plt.imshow(roi_info['ops'].data[ 'meanImg'])"
   ]
  },
  {
   "cell_type": "code",
   "execution_count": null,
   "id": "4ed06bfc",
   "metadata": {},
   "outputs": [],
   "source": [
    "plt.imshow(regist_info['ops'].data[ 'meanImgE'])"
   ]
  },
  {
   "cell_type": "code",
   "execution_count": null,
   "id": "c7747796",
   "metadata": {},
   "outputs": [],
   "source": [
    "from pathlib import Path\n",
    "# iscell = np.load('./files/suite2p/plane0/iscell.npy', allow_pickle=True)[:, 0].astype(bool)\n",
    "stats = np.load('./files/suite2p/plane0/stat.npy', allow_pickle=True)\n",
    "stats.shape, iscell.shape"
   ]
  },
  {
   "cell_type": "code",
   "execution_count": null,
   "id": "acf16852",
   "metadata": {},
   "outputs": [],
   "source": []
  }
 ],
 "metadata": {
  "kernelspec": {
   "display_name": "Python 3",
   "language": "python",
   "name": "python3"
  },
  "language_info": {
   "codemirror_mode": {
    "name": "ipython",
    "version": 3
   },
   "file_extension": ".py",
   "mimetype": "text/x-python",
   "name": "python",
   "nbconvert_exporter": "python",
   "pygments_lexer": "ipython3",
   "version": "3.8.5"
  }
 },
 "nbformat": 4,
 "nbformat_minor": 5
}

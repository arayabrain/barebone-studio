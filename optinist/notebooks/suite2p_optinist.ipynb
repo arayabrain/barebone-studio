{
 "cells": [
  {
   "cell_type": "code",
   "execution_count": null,
   "id": "8d2ef170",
   "metadata": {},
   "outputs": [],
   "source": [
    "import sys\n",
    "sys.path.append('..')\n",
    "print(sys.path)\n",
    "import yaml\n",
    "import matplotlib.pyplot as plt\n",
    "from wrappers.data_wrapper import *\n",
    "from wrappers.suite2p_wrapper import *\n",
    "from wrappers.args_check import args_check"
   ]
  },
  {
   "cell_type": "markdown",
   "id": "ff60b3e3",
   "metadata": {},
   "source": [
    "### file convert"
   ]
  },
  {
   "cell_type": "code",
   "execution_count": null,
   "id": "cb18d394",
   "metadata": {},
   "outputs": [],
   "source": [
    "image = ImageData('../../backend/files/Sue_2x_3000_40_-46.tif')\n",
    "with open('../config/suite2p_file_convert.yaml') as f:\n",
    "    params = yaml.safe_load(f)\n",
    "file_info = suite2p_file_convert(image, params)"
   ]
  },
  {
   "cell_type": "code",
   "execution_count": null,
   "id": "0d53ca6b",
   "metadata": {},
   "outputs": [],
   "source": [
    "file_info['ops'].data['meanImg'].shape"
   ]
  },
  {
   "cell_type": "code",
   "execution_count": null,
   "id": "9de773f9",
   "metadata": {},
   "outputs": [],
   "source": [
    "tmp = np.load(file_info['ops'].data['ops_path'], allow_pickle=True)\n",
    "tmp"
   ]
  },
  {
   "cell_type": "markdown",
   "id": "3038f77f",
   "metadata": {},
   "source": [
    "### registration "
   ]
  },
  {
   "cell_type": "code",
   "execution_count": null,
   "id": "eb0732bc",
   "metadata": {},
   "outputs": [],
   "source": [
    "@args_check\n",
    "def suite2p_registration(\n",
    "        ops: Suite2pData=None, params: dict=None\n",
    "    ) -> {'ops': Suite2pData}:\n",
    "    # refImg = image.data\n",
    "    ops = ops.data\n",
    "    refImg = ops['meanImg']\n",
    "\n",
    "    import numpy as np\n",
    "    from suite2p import registration\n",
    "    from suite2p import default_ops\n",
    "\n",
    "    ######### REGISTRATION #########\n",
    "#     if len(refImg.shape) == 3:\n",
    "#         refImg = refImg[0]\n",
    "\n",
    "    # if ops is None:\n",
    "    #     ops = {**default_ops()}\n",
    "\n",
    "    ops = {**ops, **params}\n",
    "\n",
    "    ops = registration.register_binary(ops, refImg=refImg) # register binary\n",
    "\n",
    "    # compute metrics for registration\n",
    "    if ops.get('do_regmetrics', True) and ops['nframes']>=1500:\n",
    "        ops = registration.get_pc_metrics(ops)\n",
    "\n",
    "    info = {}\n",
    "    info['images'] = ImageData(ops['refImg'].astype(np.uint8), func_name='suite2p_registration', file_name='refImg')\n",
    "    info['meanImgE'] = ImageData(ops['meanImgE'].astype(np.uint8), func_name='suite2p_registration', file_name='meanImgE')\n",
    "    info['ops'] = Suite2pData(ops, func_name='suite2p_registration', file_name='ops')\n",
    "\n",
    "    return info"
   ]
  },
  {
   "cell_type": "code",
   "execution_count": null,
   "id": "77ebc61d",
   "metadata": {},
   "outputs": [],
   "source": [
    "with open('../config/suite2p_registration.yaml') as f:\n",
    "    params = yaml.safe_load(f)\n",
    "regist_info = suite2p_registration(*file_info.values(), params=params)"
   ]
  },
  {
   "cell_type": "code",
   "execution_count": null,
   "id": "f0eeff1d",
   "metadata": {},
   "outputs": [],
   "source": [
    "regist_info['ops'].data['reg_file']"
   ]
  },
  {
   "cell_type": "code",
   "execution_count": null,
   "id": "0fad2a43",
   "metadata": {},
   "outputs": [],
   "source": [
    "from suite2p import io\n",
    "reg_file = io.BinaryFile(\n",
    "    read_filename='./files/suite2p/plane0/data.bin', \n",
    "    Ly=170, \n",
    "    Lx=170\n",
    ").data\n",
    "                                 "
   ]
  },
  {
   "cell_type": "code",
   "execution_count": null,
   "id": "961d35db",
   "metadata": {},
   "outputs": [],
   "source": [
    "plt.imshow(reg_file[0])"
   ]
  },
  {
   "cell_type": "code",
   "execution_count": null,
   "id": "f47cc3f5",
   "metadata": {},
   "outputs": [],
   "source": [
    "regist_info"
   ]
  },
  {
   "cell_type": "code",
   "execution_count": null,
   "id": "9e9ce4be",
   "metadata": {},
   "outputs": [],
   "source": [
    "regist_info['ops'].data['regDX'].shape"
   ]
  },
  {
   "cell_type": "code",
   "execution_count": null,
   "id": "563ef93d",
   "metadata": {},
   "outputs": [],
   "source": [
    "plt.plot(regist_info['ops'].data['corrXY1'])"
   ]
  },
  {
   "cell_type": "markdown",
   "id": "58eaedb3",
   "metadata": {},
   "source": [
    "### ROI"
   ]
  },
  {
   "cell_type": "code",
   "execution_count": null,
   "id": "6897c477",
   "metadata": {},
   "outputs": [],
   "source": [
    "roi_info = suite2p_roi(*file_info.values(), params)"
   ]
  },
  {
   "cell_type": "markdown",
   "id": "12301119",
   "metadata": {},
   "source": [
    "### spike deconv"
   ]
  },
  {
   "cell_type": "code",
   "execution_count": null,
   "id": "4763e8a0",
   "metadata": {},
   "outputs": [],
   "source": [
    "with open('../config/suite2p_spike_deconv.yaml') as f:\n",
    "    params = yaml.safe_load(f)\n",
    "spike_info = suite2p_spike_deconv(*roi_info.values(), params)"
   ]
  },
  {
   "cell_type": "code",
   "execution_count": null,
   "id": "a9ff996e",
   "metadata": {},
   "outputs": [],
   "source": [
    "roi_info['ops'].data"
   ]
  },
  {
   "cell_type": "code",
   "execution_count": null,
   "id": "2866d983",
   "metadata": {},
   "outputs": [],
   "source": []
  },
  {
   "cell_type": "code",
   "execution_count": null,
   "id": "54ea6dfd",
   "metadata": {},
   "outputs": [],
   "source": [
    "from suite2p.extraction import dcnv\n",
    "tau = 1.0 # timescale of indicator\n",
    "fs = 30.0 # sampling rate in Hz\n",
    "neucoeff = 0.7 # neuropil coefficient\n",
    "# for computing and subtracting baseline\n",
    "baseline = 'maximin' # take the running max of the running min after smoothing with␣\n",
    "\n",
    "# gaussian\n",
    "sig_baseline = 10.0 # in bins, standard deviation of gaussian with which to smooth\n",
    "win_baseline = 60.0 # in seconds, window in which to compute max/min filters\n",
    "prctile_baseline = 8\n",
    "batch_size = 200\n",
    "ops = {'tau': tau, 'fs': fs, 'neucoeff': neucoeff, 'baseline': baseline, 'sig_baseline': sig_baseline, \n",
    "       'win_baseline': win_baseline, 'prctile_baseline': prctile_baseline, 'batch_size': batch_size}\n",
    "\n",
    "\n",
    "neucoeff = 0.7\n",
    "Fc = roi_info['F'].data - ops['neucoeff'] * roi_info['ops'].data['Fneu']\n",
    "\n",
    "# baseline operation\n",
    "Fc = dcnv.preprocess(\n",
    "    F=Fc,\n",
    "    baseline=ops['baseline'],\n",
    "    win_baseline=ops['win_baseline'],\n",
    "    sig_baseline=ops['sig_baseline'],\n",
    "    fs=ops['fs'],\n",
    "    prctile_baseline=ops['prctile_baseline']\n",
    ")\n",
    "\n",
    "# get spikes\n",
    "spks = dcnv.oasis(F=Fc, batch_size=ops['batch_size'], tau=ops['tau'], fs=ops['fs'])"
   ]
  },
  {
   "cell_type": "code",
   "execution_count": null,
   "id": "5f56d613",
   "metadata": {},
   "outputs": [],
   "source": [
    "print(roi_info['F'].data.shape)\n",
    "print(roi_info['ops'].data['Fneu'].shape)"
   ]
  },
  {
   "cell_type": "code",
   "execution_count": null,
   "id": "221db917",
   "metadata": {},
   "outputs": [],
   "source": [
    "spks.shape"
   ]
  },
  {
   "cell_type": "code",
   "execution_count": null,
   "id": "2baeedef",
   "metadata": {},
   "outputs": [],
   "source": [
    "plt.imshow(roi_info['ops'].data[ 'meanImg'])"
   ]
  },
  {
   "cell_type": "code",
   "execution_count": null,
   "id": "0efa10ec",
   "metadata": {},
   "outputs": [],
   "source": [
    "plt.imshow(regist_info['ops'].data[ 'meanImgE'])"
   ]
  },
  {
   "cell_type": "code",
   "execution_count": null,
   "id": "3cd0a9c2",
   "metadata": {},
   "outputs": [],
   "source": [
    "from pathlib import Path\n",
    "# iscell = np.load('./files/suite2p/plane0/iscell.npy', allow_pickle=True)[:, 0].astype(bool)\n",
    "stats = np.load('./files/suite2p/plane0/stat.npy', allow_pickle=True)\n",
    "stats.shape, iscell.shape"
   ]
  },
  {
   "cell_type": "code",
   "execution_count": null,
   "id": "9446fd1c",
   "metadata": {},
   "outputs": [],
   "source": []
  }
 ],
 "metadata": {
  "kernelspec": {
   "display_name": "Python 3",
   "language": "python",
   "name": "python3"
  },
  "language_info": {
   "codemirror_mode": {
    "name": "ipython",
    "version": 3
   },
   "file_extension": ".py",
   "mimetype": "text/x-python",
   "name": "python",
   "nbconvert_exporter": "python",
   "pygments_lexer": "ipython3",
   "version": "3.9.5"
  }
 },
 "nbformat": 4,
 "nbformat_minor": 5
}

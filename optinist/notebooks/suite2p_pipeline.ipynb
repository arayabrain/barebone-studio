{
 "cells": [
  {
   "cell_type": "code",
   "execution_count": null,
   "id": "aa082178",
   "metadata": {},
   "outputs": [],
   "source": [
    "import os\n",
    "import numpy as np\n",
    "import suite2p\n",
    "from tempfile import TemporaryDirectory\n",
    "from pathlib import Path"
   ]
  },
  {
   "cell_type": "markdown",
   "id": "6c6bd9fa",
   "metadata": {},
   "source": [
    "### set parameters"
   ]
  },
  {
   "cell_type": "code",
   "execution_count": null,
   "id": "1c3a9bb0",
   "metadata": {},
   "outputs": [],
   "source": [
    "ops = suite2p.default_ops()\n",
    "print(ops)"
   ]
  },
  {
   "cell_type": "markdown",
   "id": "09b534f2",
   "metadata": {},
   "source": [
    "### set data path"
   ]
  },
  {
   "cell_type": "code",
   "execution_count": null,
   "id": "d22701c4",
   "metadata": {},
   "outputs": [],
   "source": [
    "db = {\n",
    "    'data_path': [os.path.join('/Users', 'shogoakiyama', 'caiman_data', 'example_movies')],\n",
    "    'save_path0': TemporaryDirectory().name,\n",
    "    'tiff_list': ['Sue_2x_3000_40_-46.tif'],\n",
    "}\n",
    "db"
   ]
  },
  {
   "cell_type": "markdown",
   "id": "43de7ec5",
   "metadata": {},
   "source": [
    "### run suite2p"
   ]
  },
  {
   "cell_type": "code",
   "execution_count": null,
   "id": "f60400f5",
   "metadata": {},
   "outputs": [],
   "source": [
    "output_ops = suite2p.run_s2p(ops=ops, db=db)"
   ]
  },
  {
   "cell_type": "markdown",
   "id": "7079f68f",
   "metadata": {},
   "source": [
    "### result"
   ]
  },
  {
   "cell_type": "code",
   "execution_count": null,
   "id": "c9108360",
   "metadata": {},
   "outputs": [],
   "source": [
    "output_op = output_ops\n",
    "print('param:\\n', set(output_op.keys()).difference(ops.keys()))\n",
    "print('\\noutput path: \\n', list(Path(output_op['save_path']).iterdir()))"
   ]
  },
  {
   "cell_type": "markdown",
   "id": "2730f849",
   "metadata": {},
   "source": [
    "### motion correction (rigid)"
   ]
  },
  {
   "cell_type": "code",
   "execution_count": null,
   "id": "c52c96d5",
   "metadata": {},
   "outputs": [],
   "source": [
    "import matplotlib.pyplot as plt\n",
    "\n",
    "plt.figure(figsize=(16, 4))\n",
    "plt.subplot(1, 4, 1)\n",
    "plt.imshow(output_op['refImg'], cmap='gray', )\n",
    "plt.title(\"Reference Image for Registration\");\n",
    "\n",
    "plt.subplot(1, 4, 2)\n",
    "plt.imshow(output_op['max_proj'], cmap='gray')\n",
    "plt.title(\"Registered Image, Max Projection\");\n",
    "\n",
    "plt.subplot(1, 4, 3)\n",
    "plt.imshow(output_op['meanImg'], cmap='gray')\n",
    "plt.title(\"Mean registered image\")\n",
    "\n",
    "plt.subplot(1, 4, 4)\n",
    "plt.imshow(output_op['meanImgE'], cmap='gray')\n",
    "plt.title(\"High-pass filtered Mean registered image\");"
   ]
  },
  {
   "cell_type": "markdown",
   "id": "249dddd0",
   "metadata": {},
   "source": [
    "### roi detection"
   ]
  },
  {
   "cell_type": "code",
   "execution_count": null,
   "id": "2b90a648",
   "metadata": {},
   "outputs": [],
   "source": [
    "from suite2p import ROI\n",
    "\n",
    "stats_file = Path(output_op['save_path']).joinpath('stat.npy')\n",
    "iscell = np.load(Path(output_op['save_path']).joinpath('iscell.npy'), allow_pickle=True)[:, 0].astype(bool)\n",
    "stats = np.load(stats_file, allow_pickle=True)\n",
    "stats.shape, iscell.shape"
   ]
  },
  {
   "cell_type": "code",
   "execution_count": null,
   "id": "8980266a",
   "metadata": {},
   "outputs": [],
   "source": [
    "stats"
   ]
  },
  {
   "cell_type": "code",
   "execution_count": null,
   "id": "6389a359",
   "metadata": {},
   "outputs": [],
   "source": [
    "label_id = True\n",
    "arrays = []\n",
    "for i, s in enumerate(stats):\n",
    "    array = ROI(ypix=s['ypix'], xpix=s['xpix'], lam=s['lam'], med=s['med'], do_crop=False).to_array(Ly=output_op['Ly'], Lx=output_op['Lx'])\n",
    "    if label_id:\n",
    "        array *= i + 1\n",
    "    arrays.append(array)\n",
    "im = np.stack(arrays)\n",
    "im[im == 0] = np.nan"
   ]
  },
  {
   "cell_type": "code",
   "execution_count": null,
   "id": "736e33e9",
   "metadata": {},
   "outputs": [],
   "source": [
    "plt.figure(figsize=(16, 4))\n",
    "\n",
    "plt.subplot(1, 4, 1)\n",
    "plt.imshow(output_op['max_proj'], cmap='gray')\n",
    "plt.title(\"Registered Image, Max Projection\")\n",
    "\n",
    "plt.subplot(1, 4, 2)\n",
    "plt.imshow(np.nanmax(im, axis=0), cmap='jet')\n",
    "plt.title(\"All ROIs Found\")\n",
    "\n",
    "plt.subplot(1, 4, 3)\n",
    "plt.imshow(np.nanmax(im[~iscell], axis=0, ), cmap='jet')\n",
    "plt.title(\"All Non-Cell ROIs\")\n",
    "\n",
    "plt.subplot(1, 4, 4)\n",
    "plt.imshow(np.nanmax(im[iscell], axis=0), cmap='jet')\n",
    "plt.title(\"All Cell ROIs\");"
   ]
  },
  {
   "cell_type": "markdown",
   "id": "5b6bf6bd",
   "metadata": {},
   "source": [
    "### Extract trace"
   ]
  },
  {
   "cell_type": "code",
   "execution_count": null,
   "id": "68bc4977",
   "metadata": {},
   "outputs": [],
   "source": [
    "f_cells = np.load(Path(output_op['save_path']).joinpath('F.npy'))\n",
    "f_neuropils = np.load(Path(output_op['save_path']).joinpath('Fneu.npy'))\n",
    "spks = np.load(Path(output_op['save_path']).joinpath('spks.npy'))\n",
    "f_cells.shape, f_neuropils.shape, spks.shape"
   ]
  },
  {
   "cell_type": "code",
   "execution_count": null,
   "id": "13402076",
   "metadata": {},
   "outputs": [],
   "source": [
    "plt.figure(figsize=[20,60])\n",
    "plt.suptitle(\"Flourescence and Deconvolved Traces for Different ROIs\", y=0.92);\n",
    "rois = np.arange(len(f_cells))[::20]\n",
    "for i, roi in enumerate(rois):\n",
    "    plt.subplot(len(rois), 1, i+1, )\n",
    "    f = f_cells[roi]\n",
    "    f_neu = f_neuropils[roi]\n",
    "    sp = spks[roi]\n",
    "    # Adjust spks range to match range of fluroescence traces\n",
    "    fmax = np.maximum(f.max(), f_neu.max())\n",
    "    fmin = np.minimum(f.min(), f_neu.min())\n",
    "    frange = fmax - fmin \n",
    "    sp /= sp.max()\n",
    "    sp *= frange\n",
    "    plt.plot(f, label=\"Cell Fluorescence\")\n",
    "    plt.plot(f_neu, label=\"Neuropil Fluorescence\")\n",
    "    plt.plot(sp + fmin, label=\"Deconvolved\")\n",
    "    plt.xticks(np.arange(0, f_cells.shape[1], f_cells.shape[1]/10))\n",
    "    plt.ylabel(f\"ROI {roi}\", rotation=0)\n",
    "    plt.xlabel(\"frame\")\n",
    "    if i == 0:\n",
    "        plt.legend(bbox_to_anchor=(0.93, 2))"
   ]
  },
  {
   "cell_type": "code",
   "execution_count": null,
   "id": "aca63f1e",
   "metadata": {},
   "outputs": [],
   "source": []
  }
 ],
 "metadata": {
  "kernelspec": {
   "display_name": "Python 3",
   "language": "python",
   "name": "python3"
  },
  "language_info": {
   "codemirror_mode": {
    "name": "ipython",
    "version": 3
   },
   "file_extension": ".py",
   "mimetype": "text/x-python",
   "name": "python",
   "nbconvert_exporter": "python",
   "pygments_lexer": "ipython3",
   "version": "3.9.5"
  }
 },
 "nbformat": 4,
 "nbformat_minor": 5
}

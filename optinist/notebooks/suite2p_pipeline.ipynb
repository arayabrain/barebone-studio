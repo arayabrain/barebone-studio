{
 "cells": [
  {
   "cell_type": "code",
   "execution_count": null,
   "id": "a28ded4a",
   "metadata": {},
   "outputs": [],
   "source": [
    "import os\n",
    "import numpy as np\n",
    "import suite2p\n",
    "from tempfile import TemporaryDirectory\n",
    "from pathlib import Path"
   ]
  },
  {
   "cell_type": "markdown",
   "id": "b802b0f9",
   "metadata": {},
   "source": [
    "### set parameters"
   ]
  },
  {
   "cell_type": "code",
   "execution_count": null,
   "id": "4f05a99a",
   "metadata": {},
   "outputs": [],
   "source": [
    "ops = suite2p.default_ops()\n",
    "print(ops)"
   ]
  },
  {
   "cell_type": "markdown",
   "id": "2c3952aa",
   "metadata": {},
   "source": [
    "### set data path"
   ]
  },
  {
   "cell_type": "code",
   "execution_count": null,
   "id": "6a347668",
   "metadata": {},
   "outputs": [],
   "source": [
    "db = {\n",
    "    'data_path': [os.path.join('/Users', 'shogoakiyama', 'Desktop')],\n",
    "    'save_path0': TemporaryDirectory().name,\n",
    "    'tiff_list': ['Sue_2x_3000_40_-46.tif'],\n",
    "}\n",
    "db"
   ]
  },
  {
   "cell_type": "markdown",
   "id": "a21c5131",
   "metadata": {},
   "source": [
    "### run suite2p"
   ]
  },
  {
   "cell_type": "code",
   "execution_count": null,
   "id": "e976f074",
   "metadata": {},
   "outputs": [],
   "source": [
    "output_ops = suite2p.run_s2p(ops=ops, db=db)"
   ]
  },
  {
   "cell_type": "markdown",
   "id": "82339d04",
   "metadata": {},
   "source": [
    "### result"
   ]
  },
  {
   "cell_type": "code",
   "execution_count": null,
   "id": "4b210498",
   "metadata": {},
   "outputs": [],
   "source": [
    "output_op = output_ops\n",
    "print('param:\\n', set(output_op.keys()).difference(ops.keys()))\n",
    "print('\\noutput path: \\n', list(Path(output_op['save_path']).iterdir()))"
   ]
  },
  {
   "cell_type": "code",
   "execution_count": null,
   "id": "a0487d8f",
   "metadata": {},
   "outputs": [],
   "source": [
    "import matplotlib.pyplot as plt\n",
    "\n",
    "plt.figure(figsize=(16, 4))\n",
    "plt.subplot(1, 4, 1)\n",
    "plt.imshow(output_op['refImg'], cmap='gray', )\n",
    "plt.title(\"Reference Image for Registration\");\n",
    "\n",
    "plt.subplot(1, 4, 2)\n",
    "plt.imshow(output_op['max_proj'], cmap='gray')\n",
    "plt.title(\"Registered Image, Max Projection\");\n",
    "\n",
    "plt.subplot(1, 4, 3)\n",
    "plt.imshow(output_op['meanImg'], cmap='gray')\n",
    "plt.title(\"Mean registered image\")\n",
    "\n",
    "plt.subplot(1, 4, 4)\n",
    "plt.imshow(output_op['meanImgE'], cmap='gray')\n",
    "plt.title(\"High-pass filtered Mean registered image\");"
   ]
  },
  {
   "cell_type": "code",
   "execution_count": null,
   "id": "61c4da7e",
   "metadata": {},
   "outputs": [],
   "source": [
    "plt.imshow(output_op['refImg'])"
   ]
  },
  {
   "cell_type": "code",
   "execution_count": null,
   "id": "e3ec7559",
   "metadata": {},
   "outputs": [],
   "source": [
    "plt.imshow(output_op['meanImg'])"
   ]
  },
  {
   "cell_type": "markdown",
   "id": "530d8e79",
   "metadata": {},
   "source": [
    "### roi detection"
   ]
  },
  {
   "cell_type": "code",
   "execution_count": null,
   "id": "e48747fe",
   "metadata": {},
   "outputs": [],
   "source": [
    "from suite2p import ROI\n",
    "\n",
    "stats_file = Path(output_op['save_path']).joinpath('stat.npy')\n",
    "iscell = np.load(Path(output_op['save_path']).joinpath('iscell.npy'), allow_pickle=True)[:, 0].astype(bool)\n",
    "stats = np.load(stats_file, allow_pickle=True)\n",
    "stats.shape, iscell.shape"
   ]
  },
  {
   "cell_type": "code",
   "execution_count": null,
   "id": "951d6115",
   "metadata": {},
   "outputs": [],
   "source": [
    "label_id = True\n",
    "arrays = []\n",
    "for i, s in enumerate(stats):\n",
    "    array = ROI(ypix=s['ypix'], xpix=s['xpix'], lam=s['lam'], med=s['med'], do_crop=False).to_array(Ly=output_op['Ly'], Lx=output_op['Lx'])\n",
    "    if label_id:\n",
    "        array *= i + 1\n",
    "    arrays.append(array)\n",
    "im = np.stack(arrays)\n",
    "import copy\n",
    "nan_im = copy.deepcopy(im)\n",
    "nan_im[im == 0] = np.nan"
   ]
  },
  {
   "cell_type": "code",
   "execution_count": null,
   "id": "0a2d6895",
   "metadata": {},
   "outputs": [],
   "source": [
    "plt.figure(figsize=(16, 4))\n",
    "\n",
    "plt.subplot(1, 4, 1)\n",
    "plt.imshow(output_op['meanImg'], cmap='gray')\n",
    "plt.title(\"Registered Image, Max Projection\")\n",
    "\n",
    "plt.subplot(1, 4, 2)\n",
    "plt.imshow(np.nanmax(nan_im, axis=0), cmap='jet')\n",
    "plt.title(\"All ROIs Found\")\n",
    "\n",
    "plt.subplot(1, 4, 3)\n",
    "plt.imshow(np.nanmax(nan_im[~iscell], axis=0, ), cmap='jet')\n",
    "plt.title(\"All Non-Cell ROIs\")\n",
    "\n",
    "plt.subplot(1, 4, 4)\n",
    "plt.imshow(np.nanmax(nan_im[iscell], axis=0), cmap='jet')\n",
    "plt.title(\"All Cell ROIs\");"
   ]
  },
  {
   "cell_type": "code",
   "execution_count": null,
   "id": "56cd5d9f",
   "metadata": {},
   "outputs": [],
   "source": [
    "print(output_op['max_proj'].shape)\n",
    "print(output_op['meanImg'].shape)\n",
    "print(nan_im.shape)"
   ]
  },
  {
   "cell_type": "code",
   "execution_count": null,
   "id": "450bfdd7",
   "metadata": {},
   "outputs": [],
   "source": [
    "tmp_im = im.reshape(-1, 170*170).transpose(1, 0)\n",
    "tmp_im.shape\n",
    "\n",
    "from scipy.sparse import csc_matrix\n",
    "sparse_roi = csc_matrix(tmp_im)\n",
    "sparse_roi"
   ]
  },
  {
   "cell_type": "code",
   "execution_count": null,
   "id": "fcfa77b7",
   "metadata": {},
   "outputs": [],
   "source": [
    "from caiman.utils.visualization import get_contours\n",
    "coordinates = get_contours(sparse_roi, (170, 170))"
   ]
  },
  {
   "cell_type": "code",
   "execution_count": null,
   "id": "c8220ce4",
   "metadata": {},
   "outputs": [],
   "source": [
    "# pl.imshow(Cn)\n",
    "sparse_rois = []\n",
    "for i, c in enumerate(coordinates):\n",
    "    if iscell[i]:\n",
    "        plt.plot(*c['coordinates'].T)\n",
    "    sparse_rois.append(c['coordinates'].T)\n",
    "# plt.gca().invert_xaxis()\n",
    "# plt.gca().invert_yaxis()"
   ]
  },
  {
   "cell_type": "code",
   "execution_count": null,
   "id": "84248b3a",
   "metadata": {},
   "outputs": [],
   "source": [
    "# plt.figure(figsize=(16, 4))\n",
    "\n",
    "plt.imshow(output_op['meanImg'], cmap='gray')\n",
    "plt.title(\"Registered Image, Max Projection\")\n",
    "\n",
    "plt.imshow(np.nanmax(nan_im[iscell], axis=0), cmap='jet')\n",
    "plt.title(\"All Cell ROIs\");"
   ]
  },
  {
   "cell_type": "code",
   "execution_count": null,
   "id": "500d3101",
   "metadata": {},
   "outputs": [],
   "source": [
    "inv_im = sparse_roi.toarray().reshape(170, 170, -1).transpose(2, 0, 1)\n",
    "inv_im *= 255\n",
    "inv_im[inv_im == 0] = np.nan"
   ]
  },
  {
   "cell_type": "code",
   "execution_count": null,
   "id": "95d7bfca",
   "metadata": {},
   "outputs": [],
   "source": [
    "plt.imshow(np.nanmax(inv_im[iscell], axis=0), cmap='jet')"
   ]
  },
  {
   "cell_type": "code",
   "execution_count": null,
   "id": "8490c417",
   "metadata": {},
   "outputs": [],
   "source": [
    "print(inv_im[~np.isnan(inv_im)].shape)\n",
    "print(inv_im[np.isnan(inv_im)].shape)"
   ]
  },
  {
   "cell_type": "code",
   "execution_count": null,
   "id": "e8f99f15",
   "metadata": {},
   "outputs": [],
   "source": [
    "print(output_op['max_proj'].shape)\n",
    "print(np.nanmax(nan_im[iscell], axis=0).shape)"
   ]
  },
  {
   "cell_type": "markdown",
   "id": "74f72226",
   "metadata": {},
   "source": [
    "### Extract trace"
   ]
  },
  {
   "cell_type": "code",
   "execution_count": null,
   "id": "7d8b64f6",
   "metadata": {},
   "outputs": [],
   "source": [
    "f_cells = np.load(Path(output_op['save_path']).joinpath('F.npy'))\n",
    "f_neuropils = np.load(Path(output_op['save_path']).joinpath('Fneu.npy'))\n",
    "spks = np.load(Path(output_op['save_path']).joinpath('spks.npy'))\n",
    "f_cells.shape, f_neuropils.shape, spks.shape"
   ]
  },
  {
   "cell_type": "code",
   "execution_count": null,
   "id": "addfbde3",
   "metadata": {},
   "outputs": [],
   "source": [
    "plt.figure(figsize=[20,60])\n",
    "plt.suptitle(\"Flourescence and Deconvolved Traces for Different ROIs\", y=0.92);\n",
    "rois = np.arange(len(f_cells))[::20]\n",
    "for i, roi in enumerate(rois):\n",
    "    plt.subplot(len(rois), 1, i+1, )\n",
    "    f = f_cells[roi]\n",
    "    f_neu = f_neuropils[roi]\n",
    "    sp = spks[roi]\n",
    "    # Adjust spks range to match range of fluroescence traces\n",
    "    fmax = np.maximum(f.max(), f_neu.max())\n",
    "    fmin = np.minimum(f.min(), f_neu.min())\n",
    "    frange = fmax - fmin \n",
    "    sp /= sp.max()\n",
    "    sp *= frange\n",
    "    plt.plot(f, label=\"Cell Fluorescence\")\n",
    "    plt.plot(f_neu, label=\"Neuropil Fluorescence\")\n",
    "    plt.plot(sp + fmin, label=\"Deconvolved\")\n",
    "    plt.xticks(np.arange(0, f_cells.shape[1], f_cells.shape[1]/10))\n",
    "    plt.ylabel(f\"ROI {roi}\", rotation=0)\n",
    "    plt.xlabel(\"frame\")\n",
    "    if i == 0:\n",
    "        plt.legend(bbox_to_anchor=(0.93, 2))"
   ]
  },
  {
   "cell_type": "code",
   "execution_count": null,
   "id": "b2001c43",
   "metadata": {},
   "outputs": [],
   "source": []
  }
 ],
 "metadata": {
  "kernelspec": {
   "display_name": "Python 3",
   "language": "python",
   "name": "python3"
  },
  "language_info": {
   "codemirror_mode": {
    "name": "ipython",
    "version": 3
   },
   "file_extension": ".py",
   "mimetype": "text/x-python",
   "name": "python",
   "nbconvert_exporter": "python",
   "pygments_lexer": "ipython3",
   "version": "3.8.5"
  }
 },
 "nbformat": 4,
 "nbformat_minor": 5
}

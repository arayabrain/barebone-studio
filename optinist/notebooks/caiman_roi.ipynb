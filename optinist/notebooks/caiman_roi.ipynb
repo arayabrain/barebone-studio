{
 "cells": [
  {
   "cell_type": "code",
   "execution_count": null,
   "id": "30d442c4",
   "metadata": {},
   "outputs": [],
   "source": [
    "import os\n",
    "import numpy as np\n",
    "import matplotlib.pyplot as plt\n",
    "import caiman\n",
    "# import wrappers.caiman_wrapper as cm\n",
    "# import wrappers.suite2p_wrapper as s2p\n",
    "\n",
    "from caiman.source_extraction.cnmf.params import CNMFParams\n",
    "from caiman.source_extraction.cnmf import cnmf as cnmf\n",
    "from caiman.motion_correction import MotionCorrect\n",
    "\n",
    "info = {}"
   ]
  },
  {
   "cell_type": "code",
   "execution_count": null,
   "id": "9b632cfd",
   "metadata": {},
   "outputs": [],
   "source": [
    "file_path = join_file_path(\n",
    "    '/Users', 'shogoakiyama', 'caiman_data', \n",
    "    'example_movies', 'Sue_2x_3000_40_-46.tif')"
   ]
  },
  {
   "cell_type": "code",
   "execution_count": null,
   "id": "953fc44e",
   "metadata": {},
   "outputs": [],
   "source": [
    "opts = CNMFParams()\n",
    "motion_opts = opts.get_group('motion')"
   ]
  },
  {
   "cell_type": "markdown",
   "id": "819d4014",
   "metadata": {},
   "source": [
    "### motion correction"
   ]
  },
  {
   "cell_type": "code",
   "execution_count": null,
   "id": "c59ee32e",
   "metadata": {},
   "outputs": [],
   "source": [
    "mc = MotionCorrect(file_path, dview=None, **motion_opts)\n",
    "mc.motion_correct(save_movie=True)"
   ]
  },
  {
   "cell_type": "code",
   "execution_count": null,
   "id": "e1c30b4f",
   "metadata": {},
   "outputs": [],
   "source": [
    "fname_new = caiman.save_memmap(mc.mmap_file, base_name='memmap_', order='C',\n",
    "                           border_to_0=0 if mc.border_nan is 'copy' else mc.border_to_0, dview=None) # exclude borders\n",
    "Yr, dims, T = caiman.load_memmap(fname_new)\n",
    "info['images'] = np.array(np.reshape(Yr.T, [T] + list(dims), order='F') )"
   ]
  },
  {
   "cell_type": "code",
   "execution_count": null,
   "id": "f5257a67",
   "metadata": {},
   "outputs": [],
   "source": [
    "info['images'].shape"
   ]
  },
  {
   "cell_type": "code",
   "execution_count": null,
   "id": "75a3f55f",
   "metadata": {},
   "outputs": [],
   "source": [
    "plt.imshow(info['images'][0])"
   ]
  },
  {
   "cell_type": "markdown",
   "id": "dd7c45bc",
   "metadata": {},
   "source": [
    "### CNMF"
   ]
  },
  {
   "cell_type": "code",
   "execution_count": null,
   "id": "0144a895",
   "metadata": {},
   "outputs": [],
   "source": [
    "cnm = cnmf.CNMF(1, params=opts, dview=None)\n",
    "cnm = cnm.fit(info['images'])"
   ]
  },
  {
   "cell_type": "code",
   "execution_count": null,
   "id": "c8e412bb",
   "metadata": {},
   "outputs": [],
   "source": [
    "from caiman.utils.visualization import get_contours\n",
    "from caiman.base.rois import com\n",
    "\n",
    "fig, ax = plt.subplots()\n",
    "\n",
    "# ax.pie([100, 200, 300, 400, 500])\n",
    "ax.imshow(Cn, interpolation=None,\n",
    "          vmin=np.percentile(Cn[~np.isnan(Cn)], 1),\n",
    "          vmax=np.percentile(Cn[~np.isnan(Cn)], 99))\n",
    "\n",
    "coordinates = get_contours(cnm.estimates.A, np.shape(Cn), 0.9, 'nrg', False)\n",
    "coords = []\n",
    "for x in coordinates:\n",
    "    _c = []\n",
    "    for y in x['coordinates']:\n",
    "        _c.append(list(y))\n",
    "    coords.append(_c)\n",
    "\n",
    "coordinates = coords\n",
    "\n",
    "# plot contours\n",
    "for c in coordinates:\n",
    "    plt.plot(*np.array(c).T, c='white')\n",
    "\n",
    "# display number\n",
    "d1, d2 = np.shape(Cn)\n",
    "d, nr = np.shape(cnm.estimates.A)\n",
    "cm = com(cnm.estimates.A, d1, d2)\n",
    "\n",
    "max_number = cnm.estimates.A.shape[1]\n",
    "\n",
    "for i in range(np.minimum(nr, max_number)):\n",
    "    ax.text(cm[i, 1], cm[i, 0], str(i + 1), color=colors)"
   ]
  },
  {
   "cell_type": "code",
   "execution_count": null,
   "id": "c86ba6b5",
   "metadata": {},
   "outputs": [],
   "source": [
    "info['images'] = Cn\n",
    "info['coordinates'] = coordinates\n",
    "info['cm'] = cm"
   ]
  },
  {
   "cell_type": "code",
   "execution_count": null,
   "id": "ec1da1a2",
   "metadata": {},
   "outputs": [],
   "source": []
  },
  {
   "cell_type": "code",
   "execution_count": null,
   "id": "e68a1a30",
   "metadata": {},
   "outputs": [],
   "source": [
    "import caiman.utils.visualization as visualization\n",
    "\n",
    "# get roi center\n",
    "cont = visualization.get_contours(cnm.estimates.A, cnm.dims, thr=0.9, thr_method='nrg', swap_dim=False)\n",
    "cont_cent = np.zeros([len(cont), 2])\n",
    "for i in range(len(cont)):\n",
    "    cont_cent[i, :] = np.nanmean(cont[i]['coordinates'], axis=0)\n",
    "\n",
    "iscell = np.zeros(cont_cent.shape[0])\n",
    "iscell[cnm.estimates.idx_components]=1"
   ]
  },
  {
   "cell_type": "code",
   "execution_count": null,
   "id": "963abdf7",
   "metadata": {},
   "outputs": [],
   "source": [
    "info['fluo'] = cnm.estimates.C\n",
    "info['iscell'] = iscell\n",
    "info['roi'] = cont_cent"
   ]
  },
  {
   "cell_type": "code",
   "execution_count": null,
   "id": "8ed8c622",
   "metadata": {},
   "outputs": [],
   "source": [
    "# info['movies'] = cnm.estimates.play_movie(\n",
    "#     info['images'], q_max=99.9, gain_res=2, magnification=2, \n",
    "#     bpx=info['border_to_0'], include_bck=False, display=False)"
   ]
  },
  {
   "cell_type": "markdown",
   "id": "119e4294",
   "metadata": {},
   "source": [
    "### component filtering"
   ]
  },
  {
   "cell_type": "code",
   "execution_count": null,
   "id": "bfb6e0c9",
   "metadata": {},
   "outputs": [],
   "source": [
    "\n",
    "# parameters for component evaluation\n",
    "min_SNR = 1.5               # signal to noise ratio for accepting a component\n",
    "rval_thr = 0.8              # space correlation threshold for accepting a component\n",
    "min_cnn_thr = 0.99          # threshold for CNN based classifier\n",
    "cnn_lowest = 0.05           # neurons with cnn probability lower than this value are rejected\n",
    "#cnm_seeded.estimates.restore_discarded_components()\n",
    "cnm.params.set('quality', {'min_SNR': min_SNR,\n",
    "                           'rval_thr': rval_thr,\n",
    "                           'use_cnn': True,\n",
    "                           'min_cnn_thr': min_cnn_thr,\n",
    "                           'cnn_lowest': cnn_lowest})\n",
    "\n",
    "#%% COMPONENT EVALUATION\n",
    "# the components are evaluated in three ways:\n",
    "#   a) the shape of each component must be correlated with the data\n",
    "#   b) a minimum peak SNR is required over the length of a transient\n",
    "#   c) each shape passes a CNN based classifier\n",
    "\n",
    "cnm.estimates.evaluate_components(info['images'], cnm.params, dview=None)"
   ]
  },
  {
   "cell_type": "code",
   "execution_count": null,
   "id": "1ddaf459",
   "metadata": {},
   "outputs": [],
   "source": [
    "cnm.estimates.plot_contours(img=Cn, idx=cnm.estimates.idx_components)"
   ]
  },
  {
   "cell_type": "code",
   "execution_count": null,
   "id": "7ad63d3d",
   "metadata": {},
   "outputs": [],
   "source": [
    "from PIL import Image\n",
    "img = Image.fromarray(np.uint8(info['images'][0]))"
   ]
  },
  {
   "cell_type": "code",
   "execution_count": null,
   "id": "b71113fa",
   "metadata": {},
   "outputs": [],
   "source": [
    "pilImg"
   ]
  },
  {
   "cell_type": "code",
   "execution_count": null,
   "id": "ca35f113",
   "metadata": {},
   "outputs": [],
   "source": []
  }
 ],
 "metadata": {
  "kernelspec": {
   "display_name": "Python 3",
   "language": "python",
   "name": "python3"
  },
  "language_info": {
   "codemirror_mode": {
    "name": "ipython",
    "version": 3
   },
   "file_extension": ".py",
   "mimetype": "text/x-python",
   "name": "python",
   "nbconvert_exporter": "python",
   "pygments_lexer": "ipython3",
   "version": "3.9.9"
  }
 },
 "nbformat": 4,
 "nbformat_minor": 5
}

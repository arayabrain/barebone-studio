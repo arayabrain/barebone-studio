{
 "cells": [
  {
   "cell_type": "code",
   "execution_count": null,
   "id": "30d442c4",
   "metadata": {},
   "outputs": [],
   "source": [
    "import os\n",
    "import numpy as np\n",
    "import matplotlib.pyplot as plt\n",
    "import caiman\n",
    "# import wrappers.caiman_wrapper as cm\n",
    "# import wrappers.suite2p_wrapper as s2p\n",
    "\n",
    "from caiman.source_extraction.cnmf.params import CNMFParams\n",
    "from caiman.source_extraction.cnmf import cnmf as cnmf\n",
    "from caiman.motion_correction import MotionCorrect\n",
    "\n",
    "info = {}"
   ]
  },
  {
   "cell_type": "code",
   "execution_count": null,
   "id": "9b632cfd",
   "metadata": {},
   "outputs": [],
   "source": [
    "file_path = os.path.join(\n",
    "    '/Users', 'shogoakiyama', 'caiman_data', \n",
    "    'example_movies', 'Sue_2x_3000_40_-46.tif')"
   ]
  },
  {
   "cell_type": "code",
   "execution_count": null,
   "id": "953fc44e",
   "metadata": {},
   "outputs": [],
   "source": [
    "opts = CNMFParams()\n",
    "motion_opts = opts.get_group('motion')"
   ]
  },
  {
   "cell_type": "code",
   "execution_count": null,
   "id": "c59ee32e",
   "metadata": {},
   "outputs": [],
   "source": [
    "mc = MotionCorrect(file_path, dview=None, **motion_opts)\n",
    "mc.motion_correct(save_movie=True)"
   ]
  },
  {
   "cell_type": "code",
   "execution_count": null,
   "id": "d04aa189",
   "metadata": {},
   "outputs": [],
   "source": [
    "info['total_template_rig'] = mc.total_template_rig\n",
    "info['shifts_rig'] = mc.shifts_rig\n",
    "info['border_to_0'] = 0 if mc.border_nan is 'copy' else mc.border_to_0\n",
    "info['mmap_file'] = mc.mmap_file"
   ]
  },
  {
   "cell_type": "code",
   "execution_count": null,
   "id": "e1c30b4f",
   "metadata": {},
   "outputs": [],
   "source": [
    "fname_new = caiman.save_memmap(info['mmap_file'], base_name='memmap_', order='C',\n",
    "                           border_to_0=info['border_to_0'], dview=None) # exclude borders\n",
    "Yr, dims, T = caiman.load_memmap(fname_new)\n",
    "info['images'] = np.reshape(Yr.T, [T] + list(dims), order='F') "
   ]
  },
  {
   "cell_type": "markdown",
   "id": "dd7c45bc",
   "metadata": {},
   "source": [
    "### CNMF"
   ]
  },
  {
   "cell_type": "code",
   "execution_count": null,
   "id": "0144a895",
   "metadata": {},
   "outputs": [],
   "source": [
    "cnm = cnmf.CNMF(1, params=opts, dview=None)\n",
    "cnm = cnm.fit(info['images'])"
   ]
  },
  {
   "cell_type": "code",
   "execution_count": null,
   "id": "c9c1c24c",
   "metadata": {},
   "outputs": [],
   "source": [
    "### 輪郭プロット（複数枚の画像から）\n",
    "#%% plot contours of found components\n",
    "Cn = caiman.local_correlations(info['images'].transpose(1, 2, 0))\n",
    "Cn[np.isnan(Cn)] = 0\n",
    "cnm.estimates.plot_contours_nb(img=Cn)"
   ]
  },
  {
   "cell_type": "code",
   "execution_count": null,
   "id": "8ed8c622",
   "metadata": {},
   "outputs": [],
   "source": [
    "info['movies'] = cnm.estimates.play_movie(\n",
    "    info['images'], q_max=99.9, gain_res=2, magnification=2, \n",
    "    bpx=info['border_to_0'], include_bck=False, display=False)"
   ]
  },
  {
   "cell_type": "code",
   "execution_count": null,
   "id": "64c66956",
   "metadata": {},
   "outputs": [],
   "source": []
  }
 ],
 "metadata": {
  "kernelspec": {
   "display_name": "Python 3",
   "language": "python",
   "name": "python3"
  },
  "language_info": {
   "codemirror_mode": {
    "name": "ipython",
    "version": 3
   },
   "file_extension": ".py",
   "mimetype": "text/x-python",
   "name": "python",
   "nbconvert_exporter": "python",
   "pygments_lexer": "ipython3",
   "version": "3.9.5"
  }
 },
 "nbformat": 4,
 "nbformat_minor": 5
}

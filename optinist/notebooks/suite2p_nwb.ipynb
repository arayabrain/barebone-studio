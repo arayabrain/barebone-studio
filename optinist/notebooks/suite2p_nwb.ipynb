{
 "cells": [
  {
   "cell_type": "code",
   "execution_count": null,
   "id": "70842459",
   "metadata": {},
   "outputs": [],
   "source": [
    "import numpy as np\n",
    "import suite2p\n",
    "# from tempfile import TemporaryDirectory"
   ]
  },
  {
   "cell_type": "markdown",
   "id": "a0716cb9",
   "metadata": {},
   "source": [
    "### suite2p"
   ]
  },
  {
   "cell_type": "code",
   "execution_count": null,
   "id": "9000ba4e",
   "metadata": {},
   "outputs": [],
   "source": [
    "ops = suite2p.default_ops()\n",
    "ops['save_NWB'] = True\n",
    "print(ops)\n",
    "\n",
    "db = {\n",
    "    'data_path': ['./data/'],\n",
    "    'save_path0': './data/',\n",
    "    'tiff_list': ['Sue_2x_3000_40_-46.tif'],\n",
    "}\n",
    "db\n",
    "\n",
    "output_ops = suite2p.run_s2p(ops=ops, db=db)"
   ]
  },
  {
   "cell_type": "code",
   "execution_count": null,
   "id": "536e1935",
   "metadata": {},
   "outputs": [],
   "source": [
    "from pathlib import Path\n",
    "\n",
    "output_op = output_ops\n",
    "print('param:\\n', set(output_op.keys()).difference(ops.keys()))\n",
    "print('\\noutput path: \\n', list(Path(output_op['save_path']).iterdir()))"
   ]
  },
  {
   "cell_type": "code",
   "execution_count": null,
   "id": "8f4c33ff",
   "metadata": {},
   "outputs": [],
   "source": [
    "import h5py\n",
    "import os\n",
    "# extension = os.path.splitext(file_path)[1].lower()\n",
    "\n",
    "f = h5py.File('./data/suite2p/ophys.nwb', \"r\")\n",
    "\n",
    "def PrintOnlyDataset(name, obj):\n",
    "    if isinstance(obj, h5py.Dataset):\n",
    "        print(name)\n",
    "\n",
    "with h5py.File('./data/suite2p/ophys.nwb', \"r\") as f:\n",
    "    f.visititems(PrintOnlyDataset)"
   ]
  },
  {
   "cell_type": "code",
   "execution_count": null,
   "id": "ea920df8",
   "metadata": {},
   "outputs": [],
   "source": [
    "f = h5py.File('./data/suite2p/ophys.nwb', \"r\")\n",
    "print(f['acquisition']['TwoPhotonSeries']['starting_time'])\n",
    "print(f['processing']['ophys']['Backgrounds_0']['meanImg'])"
   ]
  },
  {
   "cell_type": "code",
   "execution_count": null,
   "id": "4d4171bb",
   "metadata": {},
   "outputs": [],
   "source": [
    "from pynwb import NWBHDF5IO\n",
    "f = NWBHDF5IO('./data/suite2p/ophys.nwb', 'r')\n",
    "nwbfile = f.read()\n",
    "nwbfile"
   ]
  },
  {
   "cell_type": "markdown",
   "id": "8e66b3f8",
   "metadata": {},
   "source": [
    "### NWB format\n",
    "- acquisition\n",
    "    - TwoPhotonSeries\n",
    "- processing\n",
    "    - ophys\n",
    "- imageing_planes\n",
    "    - ImagePlane"
   ]
  },
  {
   "cell_type": "code",
   "execution_count": null,
   "id": "e4b0d5c8",
   "metadata": {},
   "outputs": [],
   "source": [
    "# from suite2p.io.nwb import read_nwb\n",
    "# read_nwb('./data/suite2p/ophys.nwb')"
   ]
  },
  {
   "cell_type": "code",
   "execution_count": null,
   "id": "4f6e3dad",
   "metadata": {},
   "outputs": [],
   "source": [
    "from natsort import natsorted \n",
    "plane_folders = natsorted([ f.path for f in os.scandir('./data/suite2p') if f.is_dir() and f.name[:5]=='plane'])\n",
    "ops1 = [np.load(os.path.join(f, 'ops.npy'), allow_pickle=True).item() for f in plane_folders]\n",
    "ops = ops1[0]"
   ]
  },
  {
   "cell_type": "code",
   "execution_count": null,
   "id": "9f38774a",
   "metadata": {},
   "outputs": [],
   "source": [
    "from pynwb import NWBFile\n",
    "from pynwb.ophys import (\n",
    "    OpticalChannel, TwoPhotonSeries, ImageSegmentation,\n",
    "    RoiResponseSeries, Fluorescence\n",
    ")"
   ]
  },
  {
   "cell_type": "code",
   "execution_count": null,
   "id": "d238cc24",
   "metadata": {},
   "outputs": [],
   "source": [
    "### INITIALIZE NWB FILE\n",
    "nwbfile = NWBFile(\n",
    "    session_description='suite2p_proc',\n",
    "    identifier='./data',\n",
    "    session_start_time=(ops['date_proc'] if 'date_proc' in ops else datetime.datetime.now())  # 現在時刻\n",
    ")\n",
    "print(nwbfile)"
   ]
  },
  {
   "cell_type": "markdown",
   "id": "5c4946cd",
   "metadata": {},
   "source": [
    "### aquisition"
   ]
  },
  {
   "cell_type": "code",
   "execution_count": null,
   "id": "9054af10",
   "metadata": {},
   "outputs": [],
   "source": [
    "# 顕微鏡情報を登録\n",
    "device = nwbfile.create_device(\n",
    "    name='Microscope', \n",
    "    description='My two-photon microscope',   # 顕微鏡の情報\n",
    "    manufacturer='The best microscope manufacturer'\n",
    ")\n",
    "\n",
    "# 光チャネルの説明を登録\n",
    "optical_channel = OpticalChannel(\n",
    "    name='OpticalChannel', \n",
    "    description='an optical channel', \n",
    "    emission_lambda=500.\n",
    ")"
   ]
  },
  {
   "cell_type": "code",
   "execution_count": null,
   "id": "331d66de",
   "metadata": {},
   "outputs": [],
   "source": [
    "imaging_plane = nwbfile.create_imaging_plane(\n",
    "    name='ImagingPlane',\n",
    "    description='standard',\n",
    "    optical_channel=optical_channel,   # 光チャネル\n",
    "    device=device,   # 電極デバイス\n",
    "    imaging_rate=ops['fs'],   # 画像の比率Hz\n",
    "    excitation_lambda=600., # 励起（れいき）波長\n",
    "    indicator='GCaMP',   # カルシウムインディケーター\n",
    "    location='V1',\n",
    "    grid_spacing=([2.0,2.0]),   # Space between pixels in (x, y)\n",
    "    grid_spacing_unit='microns'\n",
    ")"
   ]
  },
  {
   "cell_type": "code",
   "execution_count": null,
   "id": "cdd54b80",
   "metadata": {},
   "outputs": [],
   "source": [
    "image_series = TwoPhotonSeries(\n",
    "    name='TwoPhotonSeries', \n",
    "    dimension=[ops['Ly'], ops['Lx']],\n",
    "    external_file=['./data/Sue_2x_3000_40_-46.tif'], \n",
    "    imaging_plane=imaging_plane,\n",
    "    format='external',   # Three types: 1) Image format; tiff, png, jpg, etc. 2) external 3) raw.\n",
    "    starting_time=0.0, \n",
    "    starting_frame=[0], \n",
    "    rate=ops['fs'] * ops['nplanes']   #  Sampling rate in Hz\n",
    ")"
   ]
  },
  {
   "cell_type": "code",
   "execution_count": null,
   "id": "4363ebd9",
   "metadata": {},
   "outputs": [],
   "source": [
    "nwbfile.add_acquisition(image_series)"
   ]
  },
  {
   "cell_type": "markdown",
   "id": "0adf9812",
   "metadata": {},
   "source": [
    "### ophys/ImageSegmentation"
   ]
  },
  {
   "cell_type": "code",
   "execution_count": null,
   "id": "86ec26bd",
   "metadata": {},
   "outputs": [],
   "source": [
    "img_seg = ImageSegmentation()"
   ]
  },
  {
   "cell_type": "markdown",
   "id": "3c92e259",
   "metadata": {},
   "source": [
    "#### ophys/ImageSegmentation/PlaneSegmentation"
   ]
  },
  {
   "cell_type": "code",
   "execution_count": null,
   "id": "6c3f42b7",
   "metadata": {},
   "outputs": [],
   "source": [
    "plane_segmentation = img_seg.create_plane_segmentation(\n",
    "    name='PlaneSegmentation',\n",
    "    description='suite2p output',\n",
    "    imaging_plane=imaging_plane,\n",
    "    reference_images=image_series\n",
    ")\n",
    "\n",
    "ophys_module = nwbfile.create_processing_module(\n",
    "    name='ophys', \n",
    "    description='optical physiology processed data'\n",
    ")"
   ]
  },
  {
   "cell_type": "code",
   "execution_count": null,
   "id": "224a8a38",
   "metadata": {},
   "outputs": [],
   "source": [
    "ophys_module.add(img_seg)"
   ]
  },
  {
   "cell_type": "markdown",
   "id": "27176107",
   "metadata": {},
   "source": [
    "#### ROIとIscellを追加"
   ]
  },
  {
   "cell_type": "code",
   "execution_count": null,
   "id": "0fb571b9",
   "metadata": {},
   "outputs": [],
   "source": [
    "file_strs = ['F.npy', 'Fneu.npy', 'spks.npy']\n",
    "ncells_all = 0\n",
    "Nfr = np.array([ops['nframes'] for ops in ops1]).max()"
   ]
  },
  {
   "cell_type": "code",
   "execution_count": null,
   "id": "c98b34de",
   "metadata": {},
   "outputs": [],
   "source": [
    "# iscell\n",
    "iscell = np.load(os.path.join(ops['save_path'], 'iscell.npy'))\n",
    "\n",
    "# stat\n",
    "stat = np.load(os.path.join(ops['save_path'], 'stat.npy'), allow_pickle=True)\n",
    "\n",
    "# roi\n",
    "ncells = len(stat)\n",
    "for n in range(ncells):\n",
    "    pixel_mask = np.array([\n",
    "        stat[n]['ypix'], stat[n]['xpix'], stat[n]['lam']])\n",
    "    plane_segmentation.add_roi(pixel_mask=pixel_mask.T)\n",
    "ncells_all += ncells"
   ]
  },
  {
   "cell_type": "code",
   "execution_count": null,
   "id": "7ffd5780",
   "metadata": {},
   "outputs": [],
   "source": [
    "plane_segmentation.add_column('iscell', 'two columns - iscell & probcell', iscell)"
   ]
  },
  {
   "cell_type": "markdown",
   "id": "6409c5e7",
   "metadata": {},
   "source": [
    "### FLUORESCENCE, Neuropil, Deconvolvedを登録"
   ]
  },
  {
   "cell_type": "code",
   "execution_count": null,
   "id": "773ef48d",
   "metadata": {},
   "outputs": [],
   "source": [
    "# ROI\n",
    "rt_region = plane_segmentation.create_roi_table_region(\n",
    "    region=list(np.arange(0, ncells_all)),\n",
    "    description='all ROIs'\n",
    ")"
   ]
  },
  {
   "cell_type": "code",
   "execution_count": null,
   "id": "4d5dcd2e",
   "metadata": {},
   "outputs": [],
   "source": [
    "\n",
    "file_strs = ['F.npy', 'Fneu.npy', 'spks.npy']\n",
    "name_strs = ['Fluorescence', 'Neuropil', 'Deconvolved']\n",
    "\n",
    "for i, (fstr,nstr) in enumerate(zip(file_strs, name_strs)):\n",
    "    data = np.load(os.path.join(ops['save_path'], fstr)) \n",
    "    roi_resp_series = RoiResponseSeries(\n",
    "        name=nstr,\n",
    "        data=data,\n",
    "        rois=rt_region,\n",
    "        unit='lumens',\n",
    "        rate=ops['fs']\n",
    "    )\n",
    "    fluo = Fluorescence(roi_response_series=roi_resp_series, name=nstr)\n",
    "    print(roi_resp_series.data.shape)\n",
    "    ophys_module.add(fluo)"
   ]
  },
  {
   "cell_type": "code",
   "execution_count": null,
   "id": "e0b14065",
   "metadata": {},
   "outputs": [],
   "source": [
    "ophys_module"
   ]
  },
  {
   "cell_type": "markdown",
   "id": "7704ead9",
   "metadata": {},
   "source": [
    "### backgrounds"
   ]
  },
  {
   "cell_type": "code",
   "execution_count": null,
   "id": "786f86ef",
   "metadata": {},
   "outputs": [],
   "source": [
    "from pynwb.base import Images\n",
    "from pynwb.image import GrayscaleImage\n",
    "\n",
    "# BACKGROUNDS\n",
    "# (meanImg, Vcorr and max_proj are REQUIRED)\n",
    "bg_strs = ['meanImg', 'Vcorr', 'max_proj', 'meanImg_chan2']\n",
    "nplanes = ops['nplanes']\n",
    "\n",
    "images = Images(f'Backgrounds_{0}')\n",
    "for bstr in bg_strs:\n",
    "    if bstr in ops:\n",
    "        if bstr=='Vcorr' or bstr=='max_proj':\n",
    "            img = np.zeros((ops['Ly'], ops['Lx']), np.float32)\n",
    "            img[ops['yrange'][0]:ops['yrange'][-1], \n",
    "                ops['xrange'][0]:ops['xrange'][-1]] = ops[bstr]\n",
    "        else:\n",
    "            img = ops[bstr]\n",
    "        images.add_image(GrayscaleImage(name=bstr, data=img))"
   ]
  },
  {
   "cell_type": "code",
   "execution_count": null,
   "id": "5be01ab2",
   "metadata": {},
   "outputs": [],
   "source": [
    "ophys_module.add(images)"
   ]
  },
  {
   "cell_type": "code",
   "execution_count": null,
   "id": "cb59f3e4",
   "metadata": {},
   "outputs": [],
   "source": [
    "with NWBHDF5IO(os.path.join('./data', 'ophys.nwb'), 'w') as fio:\n",
    "    fio.write(nwbfile)"
   ]
  },
  {
   "cell_type": "code",
   "execution_count": null,
   "id": "eb0356b5",
   "metadata": {},
   "outputs": [],
   "source": [
    "images"
   ]
  },
  {
   "cell_type": "code",
   "execution_count": null,
   "id": "ad42c6e2",
   "metadata": {},
   "outputs": [],
   "source": [
    "def PrintOnlyDataset(name, obj):\n",
    "    if isinstance(obj, h5py.Dataset):\n",
    "        print(name)\n",
    "\n",
    "with h5py.File('./data/suite2p/ophys.nwb', \"r\") as f:\n",
    "    f.visititems(PrintOnlyDataset)"
   ]
  },
  {
   "cell_type": "code",
   "execution_count": null,
   "id": "954a33e0",
   "metadata": {},
   "outputs": [],
   "source": []
  },
  {
   "cell_type": "code",
   "execution_count": null,
   "id": "c059593a",
   "metadata": {},
   "outputs": [],
   "source": []
  }
 ],
 "metadata": {
  "kernelspec": {
   "display_name": "Python 3",
   "language": "python",
   "name": "python3"
  },
  "language_info": {
   "codemirror_mode": {
    "name": "ipython",
    "version": 3
   },
   "file_extension": ".py",
   "mimetype": "text/x-python",
   "name": "python",
   "nbconvert_exporter": "python",
   "pygments_lexer": "ipython3",
   "version": "3.9.5"
  }
 },
 "nbformat": 4,
 "nbformat_minor": 5
}

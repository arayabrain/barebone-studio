{
 "cells": [
  {
   "cell_type": "code",
   "execution_count": null,
   "id": "897c6948",
   "metadata": {},
   "outputs": [],
   "source": [
    "import numpy as np\n",
    "import suite2p\n",
    "# from tempfile import TemporaryDirectory"
   ]
  },
  {
   "cell_type": "markdown",
   "id": "868439f7",
   "metadata": {},
   "source": [
    "### suite2p"
   ]
  },
  {
   "cell_type": "code",
   "execution_count": null,
   "id": "6cf2cdbe",
   "metadata": {},
   "outputs": [],
   "source": [
    "ops = suite2p.default_ops()\n",
    "ops['save_NWB'] = True\n",
    "print(ops)\n",
    "\n",
    "db = {\n",
    "    'data_path': ['./data/'],\n",
    "    'save_path0': './data/',\n",
    "    'tiff_list': ['Sue_2x_3000_40_-46.tif'],\n",
    "}\n",
    "db\n",
    "\n",
    "output_ops = suite2p.run_s2p(ops=ops, db=db)"
   ]
  },
  {
   "cell_type": "code",
   "execution_count": null,
   "id": "d0b98627",
   "metadata": {},
   "outputs": [],
   "source": [
    "from pathlib import Path\n",
    "\n",
    "output_op = output_ops\n",
    "print('param:\\n', set(output_op.keys()).difference(ops.keys()))\n",
    "print('\\noutput path: \\n', list(Path(output_op['save_path']).iterdir()))"
   ]
  },
  {
   "cell_type": "code",
   "execution_count": null,
   "id": "fbf54dfa",
   "metadata": {},
   "outputs": [],
   "source": [
    "import h5py\n",
    "import os\n",
    "# extension = os.path.splitext(file_path)[1].lower()\n",
    "\n",
    "f = h5py.File('./data/suite2p/ophys.nwb', \"r\")\n",
    "\n",
    "def PrintOnlyDataset(name, obj):\n",
    "    if isinstance(obj, h5py.Dataset):\n",
    "        print(name)\n",
    "\n",
    "with h5py.File('./data/suite2p/ophys.nwb', \"r\") as f:\n",
    "    f.visititems(PrintOnlyDataset)"
   ]
  },
  {
   "cell_type": "code",
   "execution_count": null,
   "id": "27ad96b5",
   "metadata": {},
   "outputs": [],
   "source": [
    "f = h5py.File('./data/suite2p/ophys.nwb', \"r\")\n",
    "print(f['acquisition']['TwoPhotonSeries']['starting_time'])\n",
    "print(f['processing']['ophys']['Backgrounds_0']['meanImg'])"
   ]
  },
  {
   "cell_type": "code",
   "execution_count": null,
   "id": "2efcb576",
   "metadata": {},
   "outputs": [],
   "source": [
    "from pynwb import NWBHDF5IO\n",
    "f = NWBHDF5IO('./data/suite2p/ophys.nwb', 'r')\n",
    "nwbfile = f.read()\n",
    "nwbfile"
   ]
  },
  {
   "cell_type": "markdown",
   "id": "bcb08375",
   "metadata": {},
   "source": [
    "### NWB format\n",
    "- acquisition\n",
    "    - TwoPhotonSeries\n",
    "- processing\n",
    "    - ophys\n",
    "- imageing_planes\n",
    "    - ImagePlane"
   ]
  },
  {
   "cell_type": "code",
   "execution_count": null,
   "id": "981c9cd0",
   "metadata": {},
   "outputs": [],
   "source": [
    "# from suite2p.io.nwb import read_nwb\n",
    "# read_nwb('./data/suite2p/ophys.nwb')"
   ]
  },
  {
   "cell_type": "code",
   "execution_count": null,
   "id": "c56f9b98",
   "metadata": {},
   "outputs": [],
   "source": [
    "from natsort import natsorted \n",
    "plane_folders = natsorted([ f.path for f in os.scandir('./data/suite2p') if f.is_dir() and f.name[:5]=='plane'])\n",
    "ops1 = [np.load(join_file_path(f, 'ops.npy'), allow_pickle=True).item() for f in plane_folders]\n",
    "ops = ops1[0]"
   ]
  },
  {
   "cell_type": "code",
   "execution_count": null,
   "id": "b70203d5",
   "metadata": {},
   "outputs": [],
   "source": [
    "from pynwb import NWBFile\n",
    "from pynwb.ophys import (\n",
    "    OpticalChannel, TwoPhotonSeries, ImageSegmentation,\n",
    "    RoiResponseSeries, Fluorescence\n",
    ")"
   ]
  },
  {
   "cell_type": "code",
   "execution_count": null,
   "id": "8498d1c9",
   "metadata": {},
   "outputs": [],
   "source": [
    "### INITIALIZE NWB FILE\n",
    "nwbfile = NWBFile(\n",
    "    session_description='suite2p_proc',\n",
    "    identifier='./data',\n",
    "    session_start_time=(ops['date_proc'] if 'date_proc' in ops else datetime.datetime.now())  # 現在時刻\n",
    ")\n",
    "print(nwbfile)"
   ]
  },
  {
   "cell_type": "markdown",
   "id": "eb33c62c",
   "metadata": {},
   "source": [
    "### aquisition"
   ]
  },
  {
   "cell_type": "code",
   "execution_count": null,
   "id": "7f76f577",
   "metadata": {},
   "outputs": [],
   "source": [
    "# 顕微鏡情報を登録\n",
    "device = nwbfile.create_device(\n",
    "    name='Microscope',\n",
    "    description='My two-photon microscope',   # 顕微鏡の情報\n",
    "    manufacturer='The best microscope manufacturer'\n",
    ")\n",
    "\n",
    "# 光チャネルの説明を登録\n",
    "optical_channel = OpticalChannel(\n",
    "    name='OpticalChannel', \n",
    "    description='an optical channel', \n",
    "    emission_lambda=500.\n",
    ")"
   ]
  },
  {
   "cell_type": "code",
   "execution_count": null,
   "id": "20b5b2b7",
   "metadata": {},
   "outputs": [],
   "source": [
    "imaging_plane = nwbfile.create_imaging_plane(\n",
    "    name='ImagingPlane',\n",
    "    description='standard',\n",
    "    optical_channel=optical_channel,   # 光チャネル\n",
    "    device=device,   # 電極デバイス\n",
    "    imaging_rate=ops['fs'],   # 画像の比率Hz\n",
    "    excitation_lambda=600., # 励起（れいき）波長\n",
    "    indicator='GCaMP',   # カルシウムインディケーター\n",
    "    location='V1',\n",
    "    grid_spacing=([2.0,2.0]),   # Space between pixels in (x, y)\n",
    "    grid_spacing_unit='microns'\n",
    ")"
   ]
  },
  {
   "cell_type": "code",
   "execution_count": null,
   "id": "a45b2875",
   "metadata": {},
   "outputs": [],
   "source": [
    "image_series = TwoPhotonSeries(\n",
    "    name='TwoPhotonSeries', \n",
    "    dimension=[ops['Ly'], ops['Lx']],\n",
    "    external_file=['./data/Sue_2x_3000_40_-46.tif'], \n",
    "    imaging_plane=imaging_plane,\n",
    "    format='external',   # Three types: 1) Image format; tiff, png, jpg, etc. 2) external 3) raw.\n",
    "    starting_time=0.0, \n",
    "    starting_frame=[0], \n",
    "    rate=ops['fs'] * ops['nplanes']   #  Sampling rate in Hz\n",
    ")"
   ]
  },
  {
   "cell_type": "code",
   "execution_count": null,
   "id": "58dba8b7",
   "metadata": {},
   "outputs": [],
   "source": [
    "nwbfile.add_acquisition(image_series)"
   ]
  },
  {
   "cell_type": "markdown",
   "id": "c93a60ab",
   "metadata": {},
   "source": [
    "### ophys/ImageSegmentation"
   ]
  },
  {
   "cell_type": "code",
   "execution_count": null,
   "id": "35abab29",
   "metadata": {},
   "outputs": [],
   "source": [
    "nwbfile.create_processing_module(\n",
    "    name='ophys', \n",
    "    description='optical physiology processed data'\n",
    ")\n",
    "img_seg = ImageSegmentation()\n",
    "nwbfile.processing['ophys'].add(img_seg)"
   ]
  },
  {
   "cell_type": "markdown",
   "id": "fcd8ff81",
   "metadata": {},
   "source": [
    "#### ophys/ImageSegmentation/PlaneSegmentation"
   ]
  },
  {
   "cell_type": "code",
   "execution_count": null,
   "id": "65fd812a",
   "metadata": {},
   "outputs": [],
   "source": [
    "plane_segmentation = img_seg.create_plane_segmentation(\n",
    "    name='PlaneSegmentation',\n",
    "    description='suite2p output',\n",
    "    imaging_plane=imaging_plane,\n",
    "    reference_images=image_series\n",
    ")"
   ]
  },
  {
   "cell_type": "code",
   "execution_count": null,
   "id": "ecbed24b",
   "metadata": {},
   "outputs": [],
   "source": []
  },
  {
   "cell_type": "markdown",
   "id": "42f1bd4e",
   "metadata": {},
   "source": [
    "#### PlaneSegmentationにROIとIscellを追加"
   ]
  },
  {
   "cell_type": "code",
   "execution_count": null,
   "id": "9854f842",
   "metadata": {},
   "outputs": [],
   "source": [
    "# iscell\n",
    "iscell = np.load(join_file_path(ops['save_path'], 'iscell.npy'))\n",
    "\n",
    "# stat\n",
    "stat = np.load(join_file_path(ops['save_path'], 'stat.npy'), allow_pickle=True)\n",
    "\n",
    "# roi\n",
    "ncells = len(stat)\n",
    "roi_list = []\n",
    "\n",
    "for i in range(ncells):\n",
    "#     plane_segmentation.add_roi(pixel_mask=pixel_mask.T)\n",
    "    kargs = {}\n",
    "    kargs['pixel_mask'] = np.array([\n",
    "        stat[i]['ypix'], stat[i]['xpix'], stat[i]['lam']]).T\n",
    "    roi_list.append(kargs)\n",
    "\n",
    "# for col in roi_list[0].keys():\n",
    "#     # import pdb; pdb.set_trace()\n",
    "#     if col not in plane_segmentation.colnames:\n",
    "#         plane_segmentation.add_column(col, f'{col} list')\n",
    "    \n",
    "for col in roi_list:\n",
    "    plane_segmentation.add_roi(**col)\n",
    "\n",
    "ncells_all = 0\n",
    "ncells_all += ncells"
   ]
  },
  {
   "cell_type": "code",
   "execution_count": null,
   "id": "9ca24ca7",
   "metadata": {},
   "outputs": [],
   "source": []
  },
  {
   "cell_type": "code",
   "execution_count": null,
   "id": "db42fc7c",
   "metadata": {},
   "outputs": [],
   "source": [
    "plane_segmentation.columns"
   ]
  },
  {
   "cell_type": "code",
   "execution_count": null,
   "id": "3584c109",
   "metadata": {},
   "outputs": [],
   "source": [
    "plane_segmentation.columns[1].data"
   ]
  },
  {
   "cell_type": "code",
   "execution_count": null,
   "id": "cd4ee827",
   "metadata": {},
   "outputs": [],
   "source": [
    "# plane_segmentation.add_column('iscell', 'two columns - iscell & probcell', iscell)"
   ]
  },
  {
   "cell_type": "markdown",
   "id": "28088929",
   "metadata": {},
   "source": [
    "### FLUORESCENCE, Neuropil, Deconvolvedを登録"
   ]
  },
  {
   "cell_type": "code",
   "execution_count": null,
   "id": "6542e518",
   "metadata": {},
   "outputs": [],
   "source": [
    "# # ROI\n",
    "# region_roi = plane_segmentation.create_roi_table_region(\n",
    "#     region=list(np.arange(0, ncells_all)),\n",
    "#     description='all ROIs'\n",
    "# )"
   ]
  },
  {
   "cell_type": "code",
   "execution_count": null,
   "id": "2b8da417",
   "metadata": {},
   "outputs": [],
   "source": [
    "file_strs = ['F.npy', 'Fneu.npy', 'spks.npy']\n",
    "name_strs = ['Fluorescence', 'Neuropil', 'Deconvolved']\n",
    "# file_strs = ['F.npy']\n",
    "# name_strs = ['Fluorescence']\n",
    "\n",
    "for i, (fstr,nstr) in enumerate(zip(file_strs, name_strs)):\n",
    "    data = np.load(join_file_path(ops['save_path'], fstr)) \n",
    "    region_roi = plane_segmentation.create_roi_table_region(\n",
    "        nstr,\n",
    "        region=list(np.arange(ncells_all)),\n",
    "    )\n",
    "    roi_resp_series = RoiResponseSeries(\n",
    "        name=nstr,\n",
    "        data=data,\n",
    "        rois=region_roi,\n",
    "        unit='lumens',\n",
    "        rate=ops['fs']\n",
    "    )\n",
    "    fluo = Fluorescence(\n",
    "        roi_response_series=roi_resp_series,\n",
    "        name=nstr\n",
    "    )\n",
    "    print(roi_resp_series.data.shape)\n",
    "    nwbfile.processing['ophys'].add(fluo)"
   ]
  },
  {
   "cell_type": "code",
   "execution_count": null,
   "id": "150d9f2a",
   "metadata": {},
   "outputs": [],
   "source": [
    "nwbfile.processing['ophys'].data_interfaces"
   ]
  },
  {
   "cell_type": "code",
   "execution_count": null,
   "id": "961b1f99",
   "metadata": {},
   "outputs": [],
   "source": [
    "nwbfile.processing['ophys'].data_interfaces['Fluorescence'].roi_response_series['Fluorescence'].data.shape\n"
   ]
  },
  {
   "cell_type": "code",
   "execution_count": null,
   "id": "235cfadf",
   "metadata": {},
   "outputs": [],
   "source": [
    "nwbfile.processing['ophys'].data_interfaces['Neuropil'].roi_response_series['Neuropil'].data.shape"
   ]
  },
  {
   "cell_type": "code",
   "execution_count": null,
   "id": "157a51c4",
   "metadata": {},
   "outputs": [],
   "source": [
    "nwbfile.processing['ophys']"
   ]
  },
  {
   "cell_type": "code",
   "execution_count": null,
   "id": "1d297ebc",
   "metadata": {},
   "outputs": [],
   "source": [
    "nwbfile.processing['ophys']"
   ]
  },
  {
   "cell_type": "markdown",
   "id": "8c862b9a",
   "metadata": {},
   "source": [
    "### backgrounds"
   ]
  },
  {
   "cell_type": "code",
   "execution_count": null,
   "id": "75cc3f74",
   "metadata": {},
   "outputs": [],
   "source": [
    "# from pynwb.base import Images\n",
    "# from pynwb.image import GrayscaleImage\n",
    "\n",
    "# # BACKGROUNDS\n",
    "# # (meanImg, Vcorr and max_proj are REQUIRED)\n",
    "# bg_strs = ['meanImg', 'Vcorr', 'max_proj', 'meanImg_chan2']\n",
    "# nplanes = ops['nplanes']\n",
    "\n",
    "# images = Images(f'Backgrounds_{0}')\n",
    "# for bstr in bg_strs:\n",
    "#     if bstr in ops:\n",
    "#         if bstr=='Vcorr' or bstr=='max_proj':\n",
    "#             img = np.zeros((ops['Ly'], ops['Lx']), np.float32)\n",
    "#             img[ops['yrange'][0]:ops['yrange'][-1], \n",
    "#                 ops['xrange'][0]:ops['xrange'][-1]] = ops[bstr]\n",
    "#         else:\n",
    "#             img = ops[bstr]\n",
    "#         images.add_image(GrayscaleImage(name=bstr, data=img))"
   ]
  },
  {
   "cell_type": "code",
   "execution_count": null,
   "id": "14bd71ef",
   "metadata": {},
   "outputs": [],
   "source": [
    "# nwbfile.processing['ophys'].add(images)"
   ]
  },
  {
   "cell_type": "code",
   "execution_count": null,
   "id": "ce2760d9",
   "metadata": {},
   "outputs": [],
   "source": [
    "with NWBHDF5IO(join_file_path('./data', 'ophys.nwb'), 'w') as fio:\n",
    "    fio.write(nwbfile)"
   ]
  },
  {
   "cell_type": "code",
   "execution_count": null,
   "id": "c2cf498c",
   "metadata": {},
   "outputs": [],
   "source": [
    "images"
   ]
  },
  {
   "cell_type": "code",
   "execution_count": null,
   "id": "11b84acb",
   "metadata": {},
   "outputs": [],
   "source": [
    "def PrintOnlyDataset(name, obj):\n",
    "    if isinstance(obj, h5py.Dataset):\n",
    "        print(name)\n",
    "\n",
    "with h5py.File('./data/suite2p/ophys.nwb', \"r\") as f:\n",
    "    f.visititems(PrintOnlyDataset)"
   ]
  },
  {
   "cell_type": "code",
   "execution_count": null,
   "id": "4e420b65",
   "metadata": {},
   "outputs": [],
   "source": []
  },
  {
   "cell_type": "code",
   "execution_count": null,
   "id": "353c28c5",
   "metadata": {},
   "outputs": [],
   "source": []
  }
 ],
 "metadata": {
  "kernelspec": {
   "display_name": "Python 3",
   "language": "python",
   "name": "python3"
  },
  "language_info": {
   "codemirror_mode": {
    "name": "ipython",
    "version": 3
   },
   "file_extension": ".py",
   "mimetype": "text/x-python",
   "name": "python",
   "nbconvert_exporter": "python",
   "pygments_lexer": "ipython3",
   "version": "3.8.5"
  }
 },
 "nbformat": 4,
 "nbformat_minor": 5
}

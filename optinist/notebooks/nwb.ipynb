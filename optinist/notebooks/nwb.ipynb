{
 "cells": [
  {
   "cell_type": "code",
   "execution_count": null,
   "id": "9ded4b1b",
   "metadata": {},
   "outputs": [],
   "source": [
    "import numpy as np\n",
    "from pynwb import NWBFile, TimeSeries, NWBHDF5IO\n",
    "from pynwb.base import Images\n",
    "from pynwb.image import GrayscaleImage\n",
    "from pynwb.device import Device\n",
    "from pynwb.ophys import (\n",
    "    TwoPhotonSeries, \n",
    "    OpticalChannel, ImageSeries, ImageSegmentation,\n",
    "    Fluorescence, MotionCorrection, CorrectedImageStack\n",
    ")\n",
    "\n",
    "from datetime import datetime\n",
    "from dateutil.tz import tzlocal"
   ]
  },
  {
   "cell_type": "code",
   "execution_count": null,
   "id": "6558a38c",
   "metadata": {},
   "outputs": [],
   "source": [
    "nwbfile = NWBFile(\n",
    "    'my first synthetic recording',\n",
    "    'EXAMPLE_ID',\n",
    "    datetime.now(tzlocal()),\n",
    "    experimenter='Dr. Bilbo Baggins',\n",
    "    lab='Bag End Laboratory',\n",
    "    institution='University of Middle Earth at the Shire',\n",
    "    experiment_description='I went on an adventure with thirteen dwarves '\n",
    "                           'to reclaim vast treasures.',\n",
    "    session_id='LONELYMTN'\n",
    ")\n",
    "\n",
    "device = nwbfile.create_device(\n",
    "    name=\"Microscope\",\n",
    "    description=\"My two-photon microscope\",\n",
    "    manufacturer=\"The best microscope manufacturer\"\n",
    ")\n",
    "\n",
    "optical_channel = OpticalChannel(\n",
    "    name=\"OpticalChannel\",\n",
    "    description=\"an optical channel\",\n",
    "    emission_lambda=500.\n",
    ")\n",
    "\n",
    "imaging_plane = nwbfile.create_imaging_plane(\n",
    "    name=\"ImagingPlane\",\n",
    "    optical_channel=optical_channel,\n",
    "    imaging_rate=30.,\n",
    "    description=\"a very interesting part of the brain\",\n",
    "    device=device,\n",
    "    excitation_lambda=600.,\n",
    "    indicator=\"GFP\",\n",
    "    location=\"V1\",\n",
    "    grid_spacing=[.01, .01],\n",
    "    grid_spacing_unit=\"meters\",\n",
    "    origin_coords=[1., 2., 3.],\n",
    "    origin_coords_unit=\"meters\"\n",
    ")\n",
    "\n",
    "# using internal data. this data will be stored inside the NWB file\n",
    "image_series1 = TwoPhotonSeries(\n",
    "    name='TwoPhotonSeries1',\n",
    "    data=np.ones((1000, 100, 100)),\n",
    "    imaging_plane=imaging_plane,\n",
    "    rate=1.0,\n",
    "    unit='normalized amplitude'\n",
    ")"
   ]
  },
  {
   "cell_type": "code",
   "execution_count": null,
   "id": "ca5fc30a",
   "metadata": {},
   "outputs": [],
   "source": [
    "corrected = ImageSeries(\n",
    "    name='corrected',  # this must be named \"corrected\"\n",
    "    data=np.ones((1000, 100, 100)),\n",
    "    unit='na',\n",
    "    format='raw',\n",
    "    starting_time=0.0,\n",
    "    rate=1.0\n",
    ")\n",
    "\n",
    "xy_translation = TimeSeries(\n",
    "    name='xy_translation',\n",
    "    data=np.ones((1000, 2)),\n",
    "    unit='pixels',\n",
    "    starting_time=0.0,\n",
    "    rate=1.0,\n",
    ")\n",
    "\n",
    "corrected_image_stack = CorrectedImageStack(\n",
    "    corrected=corrected,\n",
    "    original=image_series1,\n",
    "    xy_translation=xy_translation,\n",
    ")\n",
    "\n",
    "motion_correction = MotionCorrection(\n",
    "    corrected_image_stacks=[corrected_image_stack]\n",
    ")"
   ]
  },
  {
   "cell_type": "code",
   "execution_count": null,
   "id": "ce793c4f",
   "metadata": {},
   "outputs": [],
   "source": [
    "with NWBHDF5IO('aa.nwb', 'w') as io:\n",
    "    io.write(nwbfile)"
   ]
  },
  {
   "cell_type": "code",
   "execution_count": null,
   "id": "b38de0fe",
   "metadata": {},
   "outputs": [],
   "source": []
  }
 ],
 "metadata": {
  "kernelspec": {
   "display_name": "Python 3",
   "language": "python",
   "name": "python3"
  },
  "language_info": {
   "codemirror_mode": {
    "name": "ipython",
    "version": 3
   },
   "file_extension": ".py",
   "mimetype": "text/x-python",
   "name": "python",
   "nbconvert_exporter": "python",
   "pygments_lexer": "ipython3",
   "version": "3.9.5"
  }
 },
 "nbformat": 4,
 "nbformat_minor": 5
}

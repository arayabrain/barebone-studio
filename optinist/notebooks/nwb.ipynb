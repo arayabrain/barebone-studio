{
 "cells": [
  {
   "cell_type": "code",
   "execution_count": null,
   "id": "70842459",
   "metadata": {},
   "outputs": [],
   "source": [
    "import numpy as np\n",
    "import suite2p\n",
    "from tempfile import TemporaryDirectory"
   ]
  },
  {
   "cell_type": "markdown",
   "id": "a0716cb9",
   "metadata": {},
   "source": [
    "### suite2p"
   ]
  },
  {
   "cell_type": "code",
   "execution_count": null,
   "id": "9000ba4e",
   "metadata": {},
   "outputs": [],
   "source": [
    "ops = suite2p.default_ops()\n",
    "ops['save_NWB'] = True\n",
    "print(ops)\n",
    "\n",
    "db = {\n",
    "    'data_path': ['../data/'],\n",
    "    'save_path0': '/Users/shogoakiyama/Desktop',\n",
    "    'tiff_list': ['Sue_2x_3000_40_-46.tif'],\n",
    "}\n",
    "db\n",
    "\n",
    "output_ops = suite2p.run_s2p(ops=ops, db=db)"
   ]
  },
  {
   "cell_type": "code",
   "execution_count": null,
   "id": "536e1935",
   "metadata": {},
   "outputs": [],
   "source": [
    "from pathlib import Path\n",
    "\n",
    "output_op = output_ops\n",
    "print('param:\\n', set(output_op.keys()).difference(ops.keys()))\n",
    "print('\\noutput path: \\n', list(Path(output_op['save_path']).iterdir()))"
   ]
  },
  {
   "cell_type": "markdown",
   "id": "27c3780d",
   "metadata": {},
   "source": [
    "### caiman"
   ]
  },
  {
   "cell_type": "code",
   "execution_count": null,
   "id": "eb3e5b2a",
   "metadata": {},
   "outputs": [],
   "source": [
    "import caiman as cm\n",
    "from caiman.source_extraction.cnmf import params as params\n",
    "from caiman.motion_correction import MotionCorrect"
   ]
  },
  {
   "cell_type": "code",
   "execution_count": null,
   "id": "2f00ee80",
   "metadata": {},
   "outputs": [],
   "source": [
    "file_path = '/Users/shogoakiyama/Desktop/suite2p/ophys.nwb'\n",
    "# file_path = [os.path.join(\n",
    "#     '/Users', 'shogoakiyama', 'caiman_data', \n",
    "#     'example_movies', 'Sue_2x_3000_40_-46.tif')]\n",
    "\n",
    "assert os.path.exists(fnames[0])"
   ]
  },
  {
   "cell_type": "code",
   "execution_count": null,
   "id": "4483d436",
   "metadata": {},
   "outputs": [],
   "source": [
    "opts = params.CNMFParams()"
   ]
  },
  {
   "cell_type": "code",
   "execution_count": null,
   "id": "5ea2df0d",
   "metadata": {},
   "outputs": [],
   "source": [
    "mc = MotionCorrect(file_path, dview=None, var_name_hdf5=opts.data['var_name_hdf5'], **opts.get_group('motion'))"
   ]
  },
  {
   "cell_type": "code",
   "execution_count": null,
   "id": "1408b4ca",
   "metadata": {},
   "outputs": [],
   "source": [
    "#%% Run piecewise-rigid motion correction using NoRMCorre\n",
    "mc.motion_correct(save_movie=False)\n",
    "m_els = cm.load(mc.fname_tot_els)\n",
    "border_to_0 = 0 if mc.border_nan is 'copy' else mc.border_to_0 "
   ]
  },
  {
   "cell_type": "code",
   "execution_count": null,
   "id": "b2f7f704",
   "metadata": {},
   "outputs": [],
   "source": [
    "iterator = cm.base.movies.load_iter(file_path, var_name_hdf5=opts.data['var_name_hdf5'])"
   ]
  },
  {
   "cell_type": "code",
   "execution_count": null,
   "id": "5201c3d9",
   "metadata": {},
   "outputs": [],
   "source": [
    "import h5py\n",
    "extension = os.path.splitext(file_path)[1].lower()\n",
    "\n",
    "f = h5py.File('/Users/shogoakiyama/Desktop/suite2p/ophys.nwb', \"r\")\n",
    "    \n",
    "#     if subindices is None:\n",
    "#         for y in Y:\n",
    "#             yield y.astype(outtype)\n",
    "#     else:\n",
    "#         if isinstance(subindices, slice):\n",
    "#             subindices = range(subindices.start,\n",
    "#                                len(Y) if subindices.stop is None else subindices.stop,\n",
    "#                                1 if subindices.step is None else subindices.step)\n",
    "#         for ind in subindices:\n",
    "#             yield Y[ind].astype(outtype)"
   ]
  },
  {
   "cell_type": "code",
   "execution_count": null,
   "id": "8f4c33ff",
   "metadata": {},
   "outputs": [],
   "source": [
    "f.keys()"
   ]
  },
  {
   "cell_type": "code",
   "execution_count": null,
   "id": "b1e516f9",
   "metadata": {},
   "outputs": [],
   "source": [
    "f['processing']['ophys']['ImageSegmentation']['PlaneSegmentation']['imaging_plane'].keys()"
   ]
  },
  {
   "cell_type": "code",
   "execution_count": null,
   "id": "0c442ec5",
   "metadata": {},
   "outputs": [],
   "source": [
    "f['acquisition']['TwoPhotonSeries']['data']"
   ]
  },
  {
   "cell_type": "code",
   "execution_count": null,
   "id": "c6c115dd",
   "metadata": {},
   "outputs": [],
   "source": [
    "f['stimulus'].keys()"
   ]
  },
  {
   "cell_type": "code",
   "execution_count": null,
   "id": "969f8675",
   "metadata": {},
   "outputs": [],
   "source": [
    "f.close()"
   ]
  },
  {
   "cell_type": "code",
   "execution_count": null,
   "id": "bc98550a",
   "metadata": {},
   "outputs": [],
   "source": []
  }
 ],
 "metadata": {
  "kernelspec": {
   "display_name": "Python 3",
   "language": "python",
   "name": "python3"
  },
  "language_info": {
   "codemirror_mode": {
    "name": "ipython",
    "version": 3
   },
   "file_extension": ".py",
   "mimetype": "text/x-python",
   "name": "python",
   "nbconvert_exporter": "python",
   "pygments_lexer": "ipython3",
   "version": "3.9.5"
  }
 },
 "nbformat": 4,
 "nbformat_minor": 5
}

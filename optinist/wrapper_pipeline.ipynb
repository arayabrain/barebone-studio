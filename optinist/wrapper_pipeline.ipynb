{
 "cells": [
  {
   "cell_type": "code",
   "execution_count": null,
   "id": "f44e3f18",
   "metadata": {},
   "outputs": [],
   "source": [
    "import os\n",
    "import numpy as np\n",
    "import matplotlib.pyplot as plt\n",
    "from wrappers.caiman_wrapper import caiman_mc, caiman_cnmf, plot_contours_nb"
   ]
  },
  {
   "cell_type": "markdown",
   "id": "18886304",
   "metadata": {},
   "source": [
    "### caiman"
   ]
  },
  {
   "cell_type": "code",
   "execution_count": null,
   "id": "e5c41e11",
   "metadata": {},
   "outputs": [],
   "source": [
    "info = {}\n",
    "file_path = os.path.join(\n",
    "    '/Users', 'shogoakiyama', 'caiman_data', \n",
    "    'example_movies', 'Sue_2x_3000_40_-46.tif')"
   ]
  },
  {
   "cell_type": "code",
   "execution_count": null,
   "id": "5ab05591",
   "metadata": {},
   "outputs": [],
   "source": [
    "info['caiman_mc'] = caiman_mc(file_path)\n",
    "info['caiman_cnmf'] = caiman_cnmf(info['caiman_mc']['images'])"
   ]
  },
  {
   "cell_type": "code",
   "execution_count": null,
   "id": "0571fae4",
   "metadata": {},
   "outputs": [],
   "source": [
    "# plot\n",
    "plt.imshow(info['caiman_mc']['total_template_rig'], cmap = 'gray')"
   ]
  },
  {
   "cell_type": "code",
   "execution_count": null,
   "id": "8262a548",
   "metadata": {},
   "outputs": [],
   "source": [
    "# shifts rig\n",
    "plt.plot(info['caiman_mc']['shifts_rig'])"
   ]
  },
  {
   "cell_type": "code",
   "execution_count": null,
   "id": "23342528",
   "metadata": {},
   "outputs": [],
   "source": [
    "# calcium image\n",
    "plot_contours_nb(info['caiman_mc']['images'], info['caiman_cnmf']['cnm'])"
   ]
  },
  {
   "cell_type": "markdown",
   "id": "6e6c0f09",
   "metadata": {},
   "source": [
    "### suite2p"
   ]
  },
  {
   "cell_type": "code",
   "execution_count": null,
   "id": "c1dd10da",
   "metadata": {},
   "outputs": [],
   "source": [
    "from wrappers.suite2p_wrapper import run_s2p, roi\n",
    "info = {}\n",
    "\n",
    "file_path = os.path.join(\n",
    "    '/Users', 'shogoakiyama', 'caiman_data', \n",
    "    'example_movies', 'Sue_2x_3000_40_-46.tif')"
   ]
  },
  {
   "cell_type": "code",
   "execution_count": null,
   "id": "8063c354",
   "metadata": {},
   "outputs": [],
   "source": [
    "info['run_s2p'] = run_s2p(file_path)\n",
    "info['roi'] = roi(info['run_s2p']['save_path'], info['run_s2p']['Lx'], info['run_s2p']['Ly'])"
   ]
  },
  {
   "cell_type": "code",
   "execution_count": null,
   "id": "3c16f7c8",
   "metadata": {},
   "outputs": [],
   "source": [
    "plt.figure(figsize=(16, 4))\n",
    "\n",
    "plt.subplot(1, 4, 1)\n",
    "plt.imshow(info['run_s2p']['max_proj'], cmap='gray')\n",
    "plt.title(\"Registered Image, Max Projection\")\n",
    "\n",
    "plt.subplot(1, 4, 2)\n",
    "plt.imshow(np.nanmax(info['roi']['im'], axis=0), cmap='jet')\n",
    "plt.title(\"All ROIs Found\")\n",
    "\n",
    "plt.subplot(1, 4, 3)\n",
    "plt.imshow(np.nanmax(info['roi']['im'][~info['roi']['iscell']], axis=0, ), cmap='jet')\n",
    "plt.title(\"All Non-Cell ROIs\")\n",
    "\n",
    "plt.subplot(1, 4, 4)\n",
    "plt.imshow(np.nanmax(info['roi']['im'][info['roi']['iscell']], axis=0), cmap='jet')\n",
    "plt.title(\"All Cell ROIs\");"
   ]
  }
 ],
 "metadata": {
  "kernelspec": {
   "display_name": "Python 3",
   "language": "python",
   "name": "python3"
  },
  "language_info": {
   "codemirror_mode": {
    "name": "ipython",
    "version": 3
   },
   "file_extension": ".py",
   "mimetype": "text/x-python",
   "name": "python",
   "nbconvert_exporter": "python",
   "pygments_lexer": "ipython3",
   "version": "3.9.5"
  }
 },
 "nbformat": 4,
 "nbformat_minor": 5
}
